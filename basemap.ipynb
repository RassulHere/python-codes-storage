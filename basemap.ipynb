{
 "cells": [
  {
   "cell_type": "code",
   "execution_count": null,
   "id": "93851f3f",
   "metadata": {},
   "outputs": [],
   "source": [
    "import openpyxl\n",
    "import os"
   ]
  },
  {
   "cell_type": "code",
   "execution_count": null,
   "id": "3cca8153",
   "metadata": {},
   "outputs": [],
   "source": [
    "pwd"
   ]
  },
  {
   "cell_type": "code",
   "execution_count": null,
   "id": "0ac14c09",
   "metadata": {},
   "outputs": [],
   "source": [
    "wb = openpyxl.load_workbook('Список терминалов Для company с ссылками.xlsx')\n",
    "ws = wb['Sheet1']"
   ]
  },
  {
   "cell_type": "code",
   "execution_count": null,
   "id": "243ddb8a",
   "metadata": {},
   "outputs": [],
   "source": [
    "coord = []\n",
    "for i in range(3,6761):\n",
    "    coord.append(ws['H{}'.format(i)].value.replace('https://yandex.kz/maps/?pt=','').replace('&z=18&l=map','').split(','))"
   ]
  },
  {
   "cell_type": "code",
   "execution_count": null,
   "id": "c4f14d97",
   "metadata": {},
   "outputs": [],
   "source": [
    "for item in coord:\n",
    "    item.reverse()"
   ]
  },
  {
   "cell_type": "code",
   "execution_count": null,
   "id": "c4aa514b",
   "metadata": {
    "scrolled": true
   },
   "outputs": [],
   "source": [
    "coord[1]"
   ]
  },
  {
   "cell_type": "code",
   "execution_count": null,
   "id": "9a3bf887",
   "metadata": {},
   "outputs": [],
   "source": [
    "for i in range(len(coord)):\n",
    "    ws['I{}'.format(i+3)] = coord[i][0]\n",
    "    ws['J{}'.format(i+3)] = coord[i][1]"
   ]
  },
  {
   "cell_type": "code",
   "execution_count": null,
   "id": "235b99bc",
   "metadata": {},
   "outputs": [],
   "source": [
    "wb.save('test.xlsx')"
   ]
  },
  {
   "cell_type": "code",
   "execution_count": null,
   "id": "97e9c425",
   "metadata": {},
   "outputs": [],
   "source": [
    "wb2 = openpyxl.load_workbook('финальный ипт.xlsx')\n",
    "ws2 = wb2['ипт инфа']"
   ]
  },
  {
   "cell_type": "code",
   "execution_count": null,
   "id": "4c4a0113",
   "metadata": {},
   "outputs": [],
   "source": [
    "current_ipt = []\n",
    "for i in range(2, 503):\n",
    "    current_ipt.append(ws2['N{}'.format(i)].value)"
   ]
  },
  {
   "cell_type": "code",
   "execution_count": null,
   "id": "5ed29fab",
   "metadata": {},
   "outputs": [],
   "source": [
    "\n",
    "current_coord = []"
   ]
  },
  {
   "cell_type": "code",
   "execution_count": null,
   "id": "a189aa5b",
   "metadata": {},
   "outputs": [],
   "source": [
    "current_ipt[0]"
   ]
  },
  {
   "cell_type": "code",
   "execution_count": null,
   "id": "f33870b7",
   "metadata": {},
   "outputs": [],
   "source": [
    "for i in range(len(current_ipt)):\n",
    "    current_coord.append(current_ipt[i].split(','))"
   ]
  },
  {
   "cell_type": "code",
   "execution_count": null,
   "id": "362f7588",
   "metadata": {},
   "outputs": [],
   "source": [
    "current_coord[0]"
   ]
  },
  {
   "cell_type": "code",
   "execution_count": null,
   "id": "69330979",
   "metadata": {},
   "outputs": [],
   "source": [
    "for i in range(len(current_coord)):\n",
    "    ws2['AA{}'.format(i+2)] = current_coord[i][0]\n",
    "    ws2['AB{}'.format(i+2)] = current_coord[i][1]"
   ]
  },
  {
   "cell_type": "code",
   "execution_count": null,
   "id": "4282c40d",
   "metadata": {},
   "outputs": [],
   "source": [
    "wb2.save('test_current.xlsx')"
   ]
  },
  {
   "cell_type": "code",
   "execution_count": null,
   "id": "f9e755be",
   "metadata": {},
   "outputs": [],
   "source": []
  },
  {
   "cell_type": "code",
   "execution_count": null,
   "id": "486d5afb",
   "metadata": {},
   "outputs": [],
   "source": []
  },
  {
   "cell_type": "code",
   "execution_count": null,
   "id": "41054dd3",
   "metadata": {},
   "outputs": [],
   "source": []
  },
  {
   "cell_type": "code",
   "execution_count": null,
   "id": "ca4ea7ec",
   "metadata": {},
   "outputs": [],
   "source": []
  },
  {
   "cell_type": "code",
   "execution_count": null,
   "id": "f06c7dba",
   "metadata": {},
   "outputs": [],
   "source": []
  },
  {
   "cell_type": "code",
   "execution_count": null,
   "id": "53cdc72e",
   "metadata": {},
   "outputs": [],
   "source": [
    "current_ipt = []\n",
    "potential_ipt = []"
   ]
  },
  {
   "cell_type": "code",
   "execution_count": null,
   "id": "46690899",
   "metadata": {},
   "outputs": [],
   "source": [
    "current_xlsx = openpyxl.load_workbook('test_current.xlsx')\n",
    "potential_xlsx = openpyxl.load_workbook('test.xlsx')"
   ]
  },
  {
   "cell_type": "code",
   "execution_count": null,
   "id": "49f70977",
   "metadata": {},
   "outputs": [],
   "source": [
    "len(potential_ipt)"
   ]
  },
  {
   "cell_type": "code",
   "execution_count": null,
   "id": "06df6f0e",
   "metadata": {},
   "outputs": [],
   "source": [
    "ws_current = current_xlsx['ипт инфа']\n",
    "ws_potential = potential_xlsx['Sheet1']"
   ]
  },
  {
   "cell_type": "code",
   "execution_count": null,
   "id": "5e64c4b4",
   "metadata": {},
   "outputs": [],
   "source": [
    "for i in range(2,503):\n",
    "    current_ipt.append([ws_current['E{}'.format(i+2)].value, ws_current['J{}'.format(i+2)].value, ws_current['AA{}'.format(i+2)].value, ws_current['AB{}'.format(i+2)].value])"
   ]
  },
  {
   "cell_type": "code",
   "execution_count": null,
   "id": "a1ad97e3",
   "metadata": {},
   "outputs": [],
   "source": [
    "for i in range(3,6761):\n",
    "    potential_ipt.append([ws_potential['C{}'.format(i+3)].value, ws_potential['E{}'.format(i+3)].value, ws_potential['I{}'.format(i+3)].value, ws_potential['J{}'.format(i+3)].value])"
   ]
  },
  {
   "cell_type": "code",
   "execution_count": null,
   "id": "b70a4e9f",
   "metadata": {},
   "outputs": [],
   "source": [
    "for item in current_ipt:\n",
    "    if type(item[2]) == type('str'):\n",
    "        item[2] = float(item[2].replace(' ','').replace('\\n',''))\n",
    "    if type(item[3]) == type('str'):\n",
    "        item[3] = float(item[3].replace(' ','').replace('\\n',''))\n",
    "        \n",
    "for item in potential_ipt:\n",
    "    if type(item[2]) == type('str'):\n",
    "        item[2] = float(item[2].replace(' ','').replace('\\n',''))\n",
    "    if type(item[3]) == type('str'):\n",
    "        item[3] = float(item[3].replace(' ','').replace('\\n',''))"
   ]
  },
  {
   "cell_type": "code",
   "execution_count": null,
   "id": "34b2b9e8",
   "metadata": {},
   "outputs": [],
   "source": []
  },
  {
   "cell_type": "code",
   "execution_count": null,
   "id": "336034ec",
   "metadata": {},
   "outputs": [],
   "source": [
    "city_ipt_dict = []\n",
    "\n",
    "skolko_sheet = current_xlsx['общая инфа (пос)']"
   ]
  },
  {
   "cell_type": "code",
   "execution_count": null,
   "id": "e83cd7f4",
   "metadata": {},
   "outputs": [],
   "source": [
    "for i in range(4,4298):\n",
    "    city_ipt_dict.append([skolko_sheet['A{}'.format(i)].value, skolko_sheet['AE{}'.format(i)].value])"
   ]
  },
  {
   "cell_type": "code",
   "execution_count": null,
   "id": "8a9bb46a",
   "metadata": {},
   "outputs": [],
   "source": [
    "delete_list = []\n",
    "for i in range(len(city_ipt_dict)):\n",
    "    if city_ipt_dict[i][1] == None or city_ipt_dict[i][1] == 0:\n",
    "        delete_list.append(i)"
   ]
  },
  {
   "cell_type": "code",
   "execution_count": null,
   "id": "a621f25f",
   "metadata": {},
   "outputs": [],
   "source": [
    "delete_list.reverse()"
   ]
  },
  {
   "cell_type": "code",
   "execution_count": null,
   "id": "380c2cc5",
   "metadata": {
    "scrolled": true
   },
   "outputs": [],
   "source": [
    "for item in delete_list:\n",
    "    city_ipt_dict.pop(item)"
   ]
  },
  {
   "cell_type": "code",
   "execution_count": null,
   "id": "b6b98869",
   "metadata": {},
   "outputs": [],
   "source": [
    "to_put = {}\n",
    "for item in city_ipt_dict:\n",
    "    to_put['{}'.format(item[0])] = item[1]"
   ]
  },
  {
   "cell_type": "code",
   "execution_count": null,
   "id": "2512ea9a",
   "metadata": {},
   "outputs": [],
   "source": [
    "to_put['Семей']"
   ]
  },
  {
   "cell_type": "code",
   "execution_count": null,
   "id": "b43094ff",
   "metadata": {},
   "outputs": [],
   "source": [
    "import random\n",
    "import math\n",
    "\n",
    "where_list = []\n",
    "\n",
    "for item in to_put:\n",
    "    \n",
    "    print(item)\n",
    "    print(to_put[item])\n",
    "\n",
    "    cur_list = []\n",
    "    pot_total_list = []\n",
    "    pot_list = []\n",
    "    temp_list = []\n",
    "\n",
    "    for i in range(len(current_ipt)):\n",
    "        if current_ipt[i][1] == item:\n",
    "            cur_list.append([current_ipt[i][0],current_ipt[i][2],current_ipt[i][3]])\n",
    "    for i in range(len(potential_ipt)):\n",
    "        if potential_ipt[i][1] == item:\n",
    "            pot_total_list.append([potential_ipt[i][0],potential_ipt[i][2],potential_ipt[i][3]])\n",
    "\n",
    "    best = []        \n",
    "    max_distance = 0\n",
    "\n",
    "    for i in range(1000):\n",
    "\n",
    "        r = random.sample(range(len(pot_total_list)),to_put[item])\n",
    "\n",
    "        for n in r:\n",
    "            pot_list.append(pot_total_list[n])\n",
    "\n",
    "        temp_list = []\n",
    "        temp_list.extend(cur_list)\n",
    "        temp_list.extend(pot_list)\n",
    "\n",
    "        distance = 0\n",
    "\n",
    "        for i in range(len(temp_list)):\n",
    "\n",
    "            for q in range(1,len(temp_list)-i):\n",
    "\n",
    "                distance_sqrd = (temp_list[i][1] - temp_list[i+q][1]) ** 2 + (temp_list[i][2] - temp_list[i+q][2]) ** 2\n",
    "                if distance_sqrd == 0:\n",
    "                    pass\n",
    "                else:\n",
    "                    distance += math.sqrt(distance_sqrd)\n",
    "\n",
    "\n",
    "            i += 1\n",
    "\n",
    "        if distance >= max_distance:\n",
    "            max_distance = distance\n",
    "            best.clear()\n",
    "            best.extend(pot_list)\n",
    "       \n",
    "        pot_list.clear()\n",
    "        temp_list.clear()\n",
    "\n",
    "    where_list.extend(best)"
   ]
  },
  {
   "cell_type": "code",
   "execution_count": null,
   "id": "aa8395af",
   "metadata": {},
   "outputs": [],
   "source": [
    "where_list[0]"
   ]
  },
  {
   "cell_type": "code",
   "execution_count": null,
   "id": "ad44e237",
   "metadata": {},
   "outputs": [],
   "source": [
    "terminal_id = []\n",
    "for i in range(len(where_list)):\n",
    "    terminal_id.append(where_list[i][0])"
   ]
  },
  {
   "cell_type": "code",
   "execution_count": null,
   "id": "f861636b",
   "metadata": {},
   "outputs": [],
   "source": [
    "for i in range(3,6761):\n",
    "    if ws_potential['C{}'.format(i)].value in terminal_id:\n",
    "        ws_potential['K{}'.format(i)].value = '+'"
   ]
  },
  {
   "cell_type": "code",
   "execution_count": null,
   "id": "8ed9a38f",
   "metadata": {},
   "outputs": [],
   "source": [
    "potential_xlsx.save('test.xlsx')\n"
   ]
  },
  {
   "cell_type": "code",
   "execution_count": null,
   "id": "9f678cc5",
   "metadata": {},
   "outputs": [],
   "source": [
    "potential_xlsx.close()"
   ]
  },
  {
   "cell_type": "code",
   "execution_count": null,
   "id": "d22ad640",
   "metadata": {},
   "outputs": [],
   "source": [
    "to_marker_xlsx = openpyxl.load_workbook('test.xlsx')\n",
    "qw = to_marker_xlsx['Sheet1_copy']"
   ]
  },
  {
   "cell_type": "code",
   "execution_count": null,
   "id": "ee414ae8",
   "metadata": {},
   "outputs": [],
   "source": [
    "for i in range(3,1005):\n",
    "    qw['L{}'.format(i)].value = f'var marker_to_put{i} = new google.maps.Marker('+'{position: new google.maps.LatLng('+qw['I{}'.format(i)].value+','+qw['J{}'.format(i)].value+'), map: map, optimized: true, icon: green,});'"
   ]
  },
  {
   "cell_type": "code",
   "execution_count": null,
   "id": "988714bb",
   "metadata": {},
   "outputs": [],
   "source": [
    "to_marker_xlsx.save('test.xlsx')"
   ]
  },
  {
   "cell_type": "code",
   "execution_count": null,
   "id": "7b104867",
   "metadata": {},
   "outputs": [],
   "source": [
    "to_put['Каскелен']"
   ]
  },
  {
   "cell_type": "code",
   "execution_count": null,
   "id": "596ebfad",
   "metadata": {},
   "outputs": [],
   "source": []
  },
  {
   "cell_type": "code",
   "execution_count": null,
   "id": "48a0799c",
   "metadata": {},
   "outputs": [],
   "source": []
  },
  {
   "cell_type": "code",
   "execution_count": null,
   "id": "d2f8fd8a",
   "metadata": {},
   "outputs": [],
   "source": []
  },
  {
   "cell_type": "code",
   "execution_count": null,
   "id": "eb27e2f2",
   "metadata": {},
   "outputs": [],
   "source": []
  },
  {
   "cell_type": "code",
   "execution_count": null,
   "id": "b611f241",
   "metadata": {},
   "outputs": [],
   "source": []
  },
  {
   "cell_type": "code",
   "execution_count": null,
   "id": "310a5182",
   "metadata": {},
   "outputs": [],
   "source": []
  },
  {
   "cell_type": "code",
   "execution_count": null,
   "id": "a2944f6f",
   "metadata": {},
   "outputs": [],
   "source": []
  },
  {
   "cell_type": "code",
   "execution_count": null,
   "id": "3c537322",
   "metadata": {},
   "outputs": [],
   "source": []
  },
  {
   "cell_type": "code",
   "execution_count": null,
   "id": "79eb6f21",
   "metadata": {},
   "outputs": [],
   "source": [
    "for i in range(len(coord)):\n",
    "    coord[i][1] = f'var marker{i} = new google.maps.Marker('+'{position: new google.maps.LatLng('+coord[i][0]+', '+coord[i][1]+'), map: map, optimized: true, icon: blue,});'"
   ]
  },
  {
   "cell_type": "code",
   "execution_count": null,
   "id": "0afa71ae",
   "metadata": {},
   "outputs": [],
   "source": [
    "coord"
   ]
  },
  {
   "cell_type": "code",
   "execution_count": null,
   "id": "1e9845de",
   "metadata": {},
   "outputs": [],
   "source": [
    "import pandas as pd\n",
    "df = pd.DataFrame(coord)\n",
    "df.to_excel('coord2.xlsx')"
   ]
  },
  {
   "cell_type": "code",
   "execution_count": null,
   "id": "f5b0708c",
   "metadata": {},
   "outputs": [],
   "source": [
    "wb2 = openpyxl.load_workbook(\"финальный ипт.xlsx\")\n",
    "ws2 = wb2['ипт инфа']"
   ]
  },
  {
   "cell_type": "code",
   "execution_count": null,
   "id": "529847ca",
   "metadata": {},
   "outputs": [],
   "source": [
    "coord_ipt_current = []\n",
    "for i in range(2, 503):\n",
    "    coord_ipt_current.append(f'var marker_current_{i} = new google.maps.Marker('+'{position: new google.maps.LatLng('+ws2['N{}'.format(i)].value+'), map: map, optimized: true, icon: red,});')"
   ]
  },
  {
   "cell_type": "code",
   "execution_count": null,
   "id": "f379511f",
   "metadata": {},
   "outputs": [],
   "source": [
    "coord_ipt_current"
   ]
  },
  {
   "cell_type": "code",
   "execution_count": null,
   "id": "059a47bc",
   "metadata": {},
   "outputs": [],
   "source": [
    "df2 = pd.DataFrame(coord_ipt_current)\n",
    "df2.to_excel('coord_current.xlsx')"
   ]
  },
  {
   "cell_type": "code",
   "execution_count": null,
   "id": "1a8acbff",
   "metadata": {},
   "outputs": [],
   "source": []
  }
 ],
 "metadata": {
  "kernelspec": {
   "display_name": "Python 3",
   "language": "python",
   "name": "python3"
  },
  "language_info": {
   "codemirror_mode": {
    "name": "ipython",
    "version": 3
   },
   "file_extension": ".py",
   "mimetype": "text/x-python",
   "name": "python",
   "nbconvert_exporter": "python",
   "pygments_lexer": "ipython3",
   "version": "3.8.8"
  }
 },
 "nbformat": 4,
 "nbformat_minor": 5
}
