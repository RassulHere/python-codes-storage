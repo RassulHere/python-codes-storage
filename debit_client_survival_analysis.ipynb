{
 "cells": [
  {
   "cell_type": "code",
   "execution_count": 2,
   "id": "8614132c",
   "metadata": {},
   "outputs": [],
   "source": [
    "import csv\n",
    "import pandas as pd"
   ]
  },
  {
   "cell_type": "markdown",
   "id": "73af7286",
   "metadata": {},
   "source": [
    "# FROM CARD OPEN TO LAST MONTH OF TXN CUSTOMER SURVIVAL\n",
    "(before that used sas to find debit cards)"
   ]
  },
  {
   "cell_type": "code",
   "execution_count": 40,
   "id": "fc1f1906",
   "metadata": {},
   "outputs": [],
   "source": [
    "file = open('all_debit_cards_base_30.12.21_270_days_gone.csv')\n",
    "csv_data = csv.reader(file,delimiter = ';')"
   ]
  },
  {
   "cell_type": "code",
   "execution_count": 41,
   "id": "467b82c5",
   "metadata": {
    "scrolled": false
   },
   "outputs": [
    {
     "data": {
      "text/plain": [
       "['CUSTOMER_RK',\n",
       " 'AGREEMENT_RK',\n",
       " 'CONTRACT_ID',\n",
       " 'CARD_ACCOUNT_NUM',\n",
       " 'CARD_NUM',\n",
       " 'CARD_TYPE_CD',\n",
       " 'CARD_TYPE_NM',\n",
       " 'OPEN_DT',\n",
       " 'OPEN_MDY',\n",
       " 'CLOSE_DT',\n",
       " 'CLOSE_MDY',\n",
       " 'STATUS_CD',\n",
       " 'PRODUCT_NAME',\n",
       " 'CLOSED_ON_NTH_MONTH',\n",
       " 'LIVING_THRU_CENS',\n",
       " 'MIN_of_TRANSACTION_DT',\n",
       " 'MAX_of_TRANSACTION_DT',\n",
       " 'MAX_TXN_DT',\n",
       " 'CARD_FACT_USAGE_M',\n",
       " 'STARTED_USING',\n",
       " 'SURVIVED_FLG']"
      ]
     },
     "execution_count": 41,
     "metadata": {},
     "output_type": "execute_result"
    }
   ],
   "source": [
    "lines = list(csv_data)\n",
    "lines[0]"
   ]
  },
  {
   "cell_type": "code",
   "execution_count": 42,
   "id": "5c1ef40b",
   "metadata": {},
   "outputs": [],
   "source": [
    "min_open = 0\n",
    "max_txn = 0\n",
    "break_count = 0\n",
    "break_months = []\n",
    "alive_flg = 0\n",
    "\n",
    "lines[0].extend(['BREAK_MONTHS', 'BREAK_COUNT', 'MIN_OPEN', 'MAX_TXN', 'ALIVE_FLG'])\n",
    "\n",
    "for i in range(1, len(lines)):\n",
    "           \n",
    "    if lines[i][0] != lines[i-1][0]:\n",
    "        \n",
    "        break_count = 0\n",
    "        break_months = []\n",
    "        alive_flg = 0\n",
    "        \n",
    "        min_open = int(lines[i][8])\n",
    "        \n",
    "        if lines[i][17] != '':\n",
    "            max_txn = int(lines[i][17])\n",
    "        else:\n",
    "            max_txn = int(lines[i][8])\n",
    "    \n",
    "    else:\n",
    "\n",
    "        if int(lines[i][8]) > max_txn:\n",
    "            break_months.append(int(round((int(lines[i][8]) - max_txn) / 30, 0)))\n",
    "            break_count += 1\n",
    "        \n",
    "            \n",
    "        if lines[i][17] != '' and int(lines[i][17]) > max_txn:\n",
    "            max_txn = int(lines[i][17])\n",
    "        \n",
    "    \n",
    "    if lines[i][-1] == '1':\n",
    "        alive_flg = 1\n",
    "        \n",
    "    lines[i].append(break_months)\n",
    "    lines[i].append(break_count)\n",
    "    lines[i].append(min_open)\n",
    "    lines[i].append(max_txn)\n",
    "    lines[i].append(alive_flg)"
   ]
  },
  {
   "cell_type": "code",
   "execution_count": 27,
   "id": "9380e3bc",
   "metadata": {},
   "outputs": [],
   "source": [
    "# закрывает ли карту до перерыва\n",
    "\n",
    "min_open = 0\n",
    "max_txn = 0\n",
    "max_close = 0\n",
    "\n",
    "\n",
    "#yes - zakryl, no - ne zakryl kartu\n",
    "count_yes = []\n",
    "count_no = []\n",
    "count_same_m = []\n",
    "\n",
    "for i in range(1, len(lines)):\n",
    "           \n",
    "    if lines[i][0] != lines[i-1][0]:\n",
    "        \n",
    "        \n",
    "        min_open = int(lines[i][8])\n",
    "                \n",
    "        try:\n",
    "            max_close = int(lines[i][10])\n",
    "        except:\n",
    "            max_close = 'Active'\n",
    "        \n",
    "        if lines[i][17] != '':\n",
    "            max_txn = int(lines[i][17])        \n",
    "    \n",
    "    else:\n",
    "                   \n",
    "        if max_close != 'Active':\n",
    "            \n",
    "            if int(lines[i][8]) > max_close and int(lines[i][8]) > max_txn:\n",
    "                count_yes.append(i)\n",
    "            elif int(lines[i][8]) < max_close and int(lines[i][8]) > max_txn:\n",
    "                count_no.append(i)\n",
    "            elif int(lines[i][8]) == max_close and int(lines[i][8]) > max_txn:\n",
    "                count_same_m.append(i)\n",
    "                       \n",
    "            if lines[i][10] == '':\n",
    "                max_close = 'Active'\n",
    "            elif int(lines[i][10]) > max_close:\n",
    "                max_close = int(lines[i][10])\n",
    "                \n",
    "        if lines[i][17] != '' and int(lines[i][17]) > max_txn:\n",
    "                    max_txn = int(lines[i][17])"
   ]
  },
  {
   "cell_type": "code",
   "execution_count": 28,
   "id": "7afd2077",
   "metadata": {},
   "outputs": [
    {
     "data": {
      "text/plain": [
       "[19, 37, 45, 51, 64, 74, 82, 94, 102, 191]"
      ]
     },
     "execution_count": 28,
     "metadata": {},
     "output_type": "execute_result"
    }
   ],
   "source": [
    "count_yes[:10]"
   ]
  },
  {
   "cell_type": "code",
   "execution_count": 29,
   "id": "9b5428ec",
   "metadata": {},
   "outputs": [
    {
     "data": {
      "text/plain": [
       "[3, 21, 25, 69, 73, 86, 87, 88, 171, 210]"
      ]
     },
     "execution_count": 29,
     "metadata": {},
     "output_type": "execute_result"
    }
   ],
   "source": [
    "count_no[:10]"
   ]
  },
  {
   "cell_type": "code",
   "execution_count": 43,
   "id": "24d428f3",
   "metadata": {},
   "outputs": [],
   "source": [
    "df = pd.DataFrame(lines)\n",
    "df.columns = df.iloc[0]\n",
    "df = df.iloc[1:]\n",
    "df.to_csv('lines_all_client_cards_30.12.21_270_days_gone.csv', index = False)"
   ]
  },
  {
   "cell_type": "markdown",
   "id": "f07d77c1",
   "metadata": {},
   "source": [
    "## after that used SAS to keep only needed information"
   ]
  },
  {
   "cell_type": "markdown",
   "id": "02aab349",
   "metadata": {},
   "source": [
    "# SURVIVAL ANALYSIS FOR DEBIT CARD CUSTOMERS"
   ]
  },
  {
   "cell_type": "code",
   "execution_count": 59,
   "id": "c89dd147",
   "metadata": {},
   "outputs": [],
   "source": [
    "file = open('to_compute_hazards_2018.csv')\n",
    "csv_data = csv.reader(file,delimiter = ';')\n",
    "lines = list(csv_data)"
   ]
  },
  {
   "cell_type": "code",
   "execution_count": 60,
   "id": "794588ae",
   "metadata": {},
   "outputs": [],
   "source": [
    "survived_to = []\n",
    "for i in range(1,len(lines)):\n",
    "\n",
    "    try:\n",
    "        survived_to.append(int(lines[i][-2]))\n",
    "    except:\n",
    "        pass\n",
    "    \n",
    "gone_on = []\n",
    "for i in range(1, len(lines)):\n",
    "    try:\n",
    "        gone_on.append(int(lines[i][-3]))\n",
    "    except:\n",
    "        pass"
   ]
  },
  {
   "cell_type": "code",
   "execution_count": 61,
   "id": "7489c2ef",
   "metadata": {},
   "outputs": [],
   "source": [
    "survived_to_dict = {}\n",
    "for x in range(200):\n",
    "    count_x = 0\n",
    "    for item in survived_to:\n",
    "        if item>=x:\n",
    "            count_x += 1\n",
    "        else:\n",
    "            pass\n",
    "    survived_to_dict[int('{}'.format(x))] = count_x"
   ]
  },
  {
   "cell_type": "code",
   "execution_count": 62,
   "id": "6b1650c2",
   "metadata": {},
   "outputs": [],
   "source": [
    "gone_on_dict = {}\n",
    "for i in range(1, 200):\n",
    "    gone_on_dict[int('{}'.format(i))] = gone_on.count(i)"
   ]
  },
  {
   "cell_type": "code",
   "execution_count": 63,
   "id": "729ddd1a",
   "metadata": {},
   "outputs": [],
   "source": [
    "df = pd.DataFrame.from_dict(survived_to_dict, orient='index')\n",
    "df.to_excel('survive_to.xlsx', sheet_name='survive_to')\n",
    "\n",
    "df2 = pd.DataFrame.from_dict(gone_on_dict, orient='index')\n",
    "df2.to_excel('gone_on.xlsx', sheet_name='gone_on')"
   ]
  },
  {
   "cell_type": "code",
   "execution_count": null,
   "id": "e84d4e50",
   "metadata": {},
   "outputs": [],
   "source": []
  },
  {
   "cell_type": "markdown",
   "id": "33833cc9",
   "metadata": {},
   "source": [
    "# RETURN RATE"
   ]
  },
  {
   "cell_type": "code",
   "execution_count": 147,
   "id": "7b85a877",
   "metadata": {},
   "outputs": [],
   "source": [
    "# 22615 01.12.21"
   ]
  },
  {
   "cell_type": "code",
   "execution_count": 12,
   "id": "c1efd48c",
   "metadata": {},
   "outputs": [],
   "source": [
    "file = open('to_compute_return_rate_all_client_cards_21.12.21_180_days_gone.csv')\n",
    "csv_data = csv.reader(file,delimiter = ';')"
   ]
  },
  {
   "cell_type": "code",
   "execution_count": 13,
   "id": "6e31adaa",
   "metadata": {},
   "outputs": [
    {
     "data": {
      "text/plain": [
       "['9529264', '[1]', '1', '20120', '22585', '82', '81', '0']"
      ]
     },
     "execution_count": 13,
     "metadata": {},
     "output_type": "execute_result"
    }
   ],
   "source": [
    "lines = list(csv_data)\n",
    "lines[1]"
   ]
  },
  {
   "cell_type": "code",
   "execution_count": 14,
   "id": "fbbbd681",
   "metadata": {},
   "outputs": [
    {
     "data": {
      "text/plain": [
       "['CUSTOMER_RK',\n",
       " 'BREAK_MONTHS',\n",
       " 'BREAK_COUNT',\n",
       " 'MIN_OPEN',\n",
       " 'MAX_TXN',\n",
       " 'CLOSED_ON_NTH_MONTH',\n",
       " 'LIVING_THRU_CENS',\n",
       " 'ALIVE_FLG']"
      ]
     },
     "execution_count": 14,
     "metadata": {},
     "output_type": "execute_result"
    }
   ],
   "source": [
    "lines[0]"
   ]
  },
  {
   "cell_type": "code",
   "execution_count": 15,
   "id": "e688bdba",
   "metadata": {},
   "outputs": [],
   "source": [
    "returned_on = []\n",
    "for i in range(1,len(lines)):\n",
    "    if lines[i][1] != '[]':\n",
    "        returned_on.extend(lines[i][1].replace('[','').replace(']','').split(', '))\n"
   ]
  },
  {
   "cell_type": "code",
   "execution_count": 16,
   "id": "6ddaec00",
   "metadata": {},
   "outputs": [],
   "source": [
    "return_on_2 = list(map(lambda x: int(x), returned_on))"
   ]
  },
  {
   "cell_type": "code",
   "execution_count": 17,
   "id": "14b96dfc",
   "metadata": {},
   "outputs": [],
   "source": [
    "return_set = set()\n",
    "for item in return_on_2:\n",
    "    return_set.add(item)\n",
    "return_set = list(return_set)\n",
    "return_set.sort()\n",
    "    \n",
    "return_dict = {}\n",
    "for item in return_set:\n",
    "    return_dict[item] = return_on_2.count(item)"
   ]
  },
  {
   "cell_type": "code",
   "execution_count": 18,
   "id": "2eb24c3f",
   "metadata": {},
   "outputs": [],
   "source": [
    "idet_since_gone = []\n",
    "\n",
    "for i in range(1, len(lines)):\n",
    "    if lines[i][1] == '[]' and lines[i][-1] == '0':\n",
    "        idet_since_gone.append(int(round((22615 - int(lines[i][4])) / 30)))"
   ]
  },
  {
   "cell_type": "code",
   "execution_count": 19,
   "id": "4eace819",
   "metadata": {},
   "outputs": [],
   "source": [
    "idet_s_zakrytiya = {}\n",
    "\n",
    "for i in range(1,200):\n",
    "    \n",
    "    count_x = 0\n",
    "    \n",
    "    for x in return_on_2:\n",
    "        if x > i:\n",
    "            count_x += 1\n",
    "    \n",
    "    for y in idet_since_gone:\n",
    "        if y > i:\n",
    "            count_x += 1\n",
    "    \n",
    "    idet_s_zakrytiya[i] = count_x"
   ]
  },
  {
   "cell_type": "code",
   "execution_count": 20,
   "id": "bb75aa2b",
   "metadata": {},
   "outputs": [],
   "source": [
    "df = pd.DataFrame.from_dict(return_dict, orient='index')\n",
    "df.to_excel('returned_on.xlsx', sheet_name='returned')\n",
    "\n",
    "df2 = pd.DataFrame.from_dict(idet_s_zakrytiya, orient='index')\n",
    "df2.to_excel('idet_s_zakrytiya.xlsx', sheet_name='idet')"
   ]
  },
  {
   "cell_type": "code",
   "execution_count": null,
   "id": "33aca698",
   "metadata": {},
   "outputs": [],
   "source": []
  },
  {
   "cell_type": "code",
   "execution_count": null,
   "id": "27559009",
   "metadata": {},
   "outputs": [],
   "source": []
  },
  {
   "cell_type": "code",
   "execution_count": 81,
   "id": "3c1195f0",
   "metadata": {},
   "outputs": [],
   "source": [
    "# to find how many months customers are gone before becoming active again\n",
    "# need return rate file data\n",
    "\n",
    "months_between = []\n",
    "\n",
    "for i in range(1, len(lines)):\n",
    "    if lines[i][1] != '[]':\n",
    "        months_between.extend(lines[i][1].replace('[', '').replace(']','').split(', '))"
   ]
  },
  {
   "cell_type": "code",
   "execution_count": 82,
   "id": "8e0c5f3a",
   "metadata": {},
   "outputs": [],
   "source": [
    "months_between_int = list(map(lambda x: int(x), months_between))"
   ]
  },
  {
   "cell_type": "code",
   "execution_count": 83,
   "id": "6765471a",
   "metadata": {},
   "outputs": [],
   "source": [
    "months_between_int.sort()"
   ]
  },
  {
   "cell_type": "code",
   "execution_count": 84,
   "id": "f493fc17",
   "metadata": {},
   "outputs": [],
   "source": [
    "months_between_dict = {}\n",
    "\n",
    "for i in range(183):\n",
    "    months_between_dict[i] = months_between_int.count(i)"
   ]
  },
  {
   "cell_type": "code",
   "execution_count": 85,
   "id": "63f0b5c8",
   "metadata": {},
   "outputs": [],
   "source": [
    "df3 = pd.DataFrame.from_dict(months_between_dict, orient='index')\n",
    "df3.to_excel('months_between_dict2.xlsx', sheet_name='months_between')"
   ]
  },
  {
   "cell_type": "code",
   "execution_count": null,
   "id": "c3f2c662",
   "metadata": {},
   "outputs": [],
   "source": []
  },
  {
   "cell_type": "code",
   "execution_count": null,
   "id": "0f1066f6",
   "metadata": {},
   "outputs": [],
   "source": []
  },
  {
   "cell_type": "code",
   "execution_count": null,
   "id": "bd7a3e2b",
   "metadata": {},
   "outputs": [],
   "source": []
  },
  {
   "cell_type": "markdown",
   "id": "cb715afb",
   "metadata": {},
   "source": [
    "# SWITCH TO PREMIUM CARD"
   ]
  },
  {
   "cell_type": "code",
   "execution_count": 98,
   "id": "bf48b9a6",
   "metadata": {},
   "outputs": [],
   "source": [
    "file = open('gold_to_premium_card.csv')\n",
    "csv_data = csv.reader(file,delimiter = ';')"
   ]
  },
  {
   "cell_type": "code",
   "execution_count": 99,
   "id": "8db90ac4",
   "metadata": {},
   "outputs": [
    {
     "data": {
      "text/plain": [
       "['CUSTOMER_RK',\n",
       " 'AGREEMENT_RK',\n",
       " 'CONTRACT_ID',\n",
       " 'CARD_ACCOUNT_NUM',\n",
       " 'CARD_NUM',\n",
       " 'CARD_TYPE_CD',\n",
       " 'CARD_TYPE_NM',\n",
       " 'OPEN_DT',\n",
       " 'OPEN_MDY',\n",
       " 'CLOSE_DT',\n",
       " 'CLOSE_MDY',\n",
       " 'STATUS_CD',\n",
       " 'PRODUCT_NAME',\n",
       " 'CLOSED_ON_NTH_MONTH',\n",
       " 'LIVING_THRU_CENS']"
      ]
     },
     "execution_count": 99,
     "metadata": {},
     "output_type": "execute_result"
    }
   ],
   "source": [
    "lines = list(csv_data)\n",
    "lines[0]"
   ]
  },
  {
   "cell_type": "code",
   "execution_count": 100,
   "id": "32b64ce0",
   "metadata": {},
   "outputs": [],
   "source": [
    "lines[0].extend(['CARD_COUNT', 'G_OR_P_FLAG', 'BREAK_MONTHS', 'BREAK_COUNT', 'MIN_OPEN', 'MAX_CLOSE'])\n",
    "\n",
    "for i in range(1, len(lines)):\n",
    "           \n",
    "    if lines[i][0] != lines[i-1][0]:\n",
    "        card_count = 1\n",
    "        g_or_p_flag = []\n",
    "        break_count = 0\n",
    "        break_months = []\n",
    "        min_open = 0\n",
    "        max_close = 0\n",
    "        \n",
    "        if lines[i][10] == '' and lines[i][11] == 'Card OK':\n",
    "            max_close = ''\n",
    "        elif lines[i][10] == '':\n",
    "            max_close = int(lines[i+1][8])\n",
    "        else:\n",
    "            max_close = int(lines[i][10])\n",
    "        \n",
    "        min_open = int(lines[i][8])\n",
    "    \n",
    "    else:\n",
    "        card_count += 1\n",
    "                        \n",
    "        if max_close != '':\n",
    "            \n",
    "            if int(lines[i][8]) > max_close and lines[i][10] != '':\n",
    "                break_months.append(int(round((int(lines[i][8]) - max_close) / 30, 0)))\n",
    "                break_count += 1\n",
    "                max_close = int(lines[i][10])\n",
    "            elif lines[i][10] == '' and lines[i][11] == 'Card OK':\n",
    "                max_close = ''\n",
    "            elif lines[i][10] != '' and int(lines[i][10]) > max_close:\n",
    "                max_close = int(lines[i][10])\n",
    "            else:\n",
    "                pass\n",
    "    \n",
    "    if 'PLATINUM' in lines[i][12] or 'INFINITE' in lines[i][12] or 'BLACK EDITION' in lines[i][12]:\n",
    "        g_or_p_flag.append(1)\n",
    "    else:\n",
    "        g_or_p_flag.append(0)\n",
    "    \n",
    "    lines[i].append(card_count)\n",
    "    lines[i].append(g_or_p_flag)\n",
    "    lines[i].append(break_months)\n",
    "    lines[i].append(break_count)\n",
    "    lines[i].append(str(min_open))\n",
    "    if max_close == '':\n",
    "        lines[i].append(max_close)\n",
    "    else:\n",
    "        lines[i].append(str(max_close))"
   ]
  },
  {
   "cell_type": "code",
   "execution_count": 101,
   "id": "8a2cf910",
   "metadata": {},
   "outputs": [],
   "source": [
    "df = pd.DataFrame(lines)\n",
    "df.columns = df.iloc[0]\n",
    "df = df.iloc[1:]\n",
    "df.to_csv('lines_g_or_p_flag.csv', index = False)"
   ]
  },
  {
   "cell_type": "code",
   "execution_count": null,
   "id": "a536a2db",
   "metadata": {},
   "outputs": [],
   "source": []
  },
  {
   "cell_type": "markdown",
   "id": "70cec51e",
   "metadata": {},
   "source": [
    "# MONTHS BETWEEN TXNS"
   ]
  },
  {
   "cell_type": "code",
   "execution_count": 157,
   "id": "3f33a457",
   "metadata": {},
   "outputs": [],
   "source": [
    "file = open('debit_client_transactions_by_months.csv', 'r')\n",
    "csv_data = csv.reader(file, delimiter=';')"
   ]
  },
  {
   "cell_type": "code",
   "execution_count": 158,
   "id": "771d1875",
   "metadata": {},
   "outputs": [],
   "source": [
    "lines = list(csv_data)"
   ]
  },
  {
   "cell_type": "code",
   "execution_count": 160,
   "id": "d4d17e4c",
   "metadata": {},
   "outputs": [
    {
     "data": {
      "text/plain": [
       "['9529264',\n",
       " '',\n",
       " '',\n",
       " '',\n",
       " '',\n",
       " '',\n",
       " '',\n",
       " '',\n",
       " '',\n",
       " '',\n",
       " '',\n",
       " '',\n",
       " '',\n",
       " '',\n",
       " '',\n",
       " '',\n",
       " '',\n",
       " '',\n",
       " '',\n",
       " '',\n",
       " '',\n",
       " '',\n",
       " '',\n",
       " '',\n",
       " '',\n",
       " '',\n",
       " '',\n",
       " '',\n",
       " '',\n",
       " '',\n",
       " '',\n",
       " '',\n",
       " '',\n",
       " '',\n",
       " '',\n",
       " '',\n",
       " '',\n",
       " '',\n",
       " '',\n",
       " '',\n",
       " '',\n",
       " '',\n",
       " '',\n",
       " '',\n",
       " '',\n",
       " '',\n",
       " '',\n",
       " '',\n",
       " '',\n",
       " '',\n",
       " '',\n",
       " '',\n",
       " '',\n",
       " '',\n",
       " '',\n",
       " '',\n",
       " '',\n",
       " '',\n",
       " '',\n",
       " '',\n",
       " '',\n",
       " '',\n",
       " '',\n",
       " '',\n",
       " '',\n",
       " '',\n",
       " '',\n",
       " '',\n",
       " '',\n",
       " '',\n",
       " '',\n",
       " '',\n",
       " '',\n",
       " '',\n",
       " '',\n",
       " '',\n",
       " '',\n",
       " '',\n",
       " '',\n",
       " '',\n",
       " '',\n",
       " '',\n",
       " '',\n",
       " '',\n",
       " '',\n",
       " '',\n",
       " '',\n",
       " '',\n",
       " '',\n",
       " '',\n",
       " '',\n",
       " '',\n",
       " '',\n",
       " '',\n",
       " '1',\n",
       " '1',\n",
       " '1',\n",
       " '1',\n",
       " '1',\n",
       " '',\n",
       " '',\n",
       " '',\n",
       " '1',\n",
       " '1',\n",
       " '1',\n",
       " '1',\n",
       " '1',\n",
       " '1',\n",
       " '',\n",
       " '1',\n",
       " '',\n",
       " '',\n",
       " '1',\n",
       " '',\n",
       " '',\n",
       " '',\n",
       " '',\n",
       " '1',\n",
       " '1',\n",
       " '1',\n",
       " '',\n",
       " '',\n",
       " '1',\n",
       " '1',\n",
       " '1',\n",
       " '1',\n",
       " '1',\n",
       " '1',\n",
       " '1',\n",
       " '1',\n",
       " '1',\n",
       " '',\n",
       " '1',\n",
       " '',\n",
       " '1',\n",
       " '1',\n",
       " '',\n",
       " '1',\n",
       " '1',\n",
       " '',\n",
       " '',\n",
       " '',\n",
       " '',\n",
       " '1',\n",
       " '1',\n",
       " '1',\n",
       " '1',\n",
       " '1',\n",
       " '1',\n",
       " '1',\n",
       " '1',\n",
       " '1',\n",
       " '1',\n",
       " '1',\n",
       " '1',\n",
       " '1',\n",
       " '1',\n",
       " '1',\n",
       " '1',\n",
       " '',\n",
       " '1',\n",
       " '1',\n",
       " '1',\n",
       " '',\n",
       " '1',\n",
       " '1',\n",
       " '1',\n",
       " '1',\n",
       " '',\n",
       " '1',\n",
       " '1',\n",
       " '1',\n",
       " '1',\n",
       " '1',\n",
       " '1',\n",
       " '1',\n",
       " '1',\n",
       " '1',\n",
       " '1',\n",
       " '1',\n",
       " '1',\n",
       " '1',\n",
       " '1']"
      ]
     },
     "execution_count": 160,
     "metadata": {},
     "output_type": "execute_result"
    }
   ],
   "source": [
    "lines[1]"
   ]
  },
  {
   "cell_type": "code",
   "execution_count": 176,
   "id": "7e32eb95",
   "metadata": {},
   "outputs": [
    {
     "data": {
      "text/plain": [
       "183"
      ]
     },
     "execution_count": 176,
     "metadata": {},
     "output_type": "execute_result"
    }
   ],
   "source": [
    "len(lines[1])"
   ]
  },
  {
   "cell_type": "code",
   "execution_count": 185,
   "id": "45b52dc7",
   "metadata": {},
   "outputs": [
    {
     "name": "stdout",
     "output_type": "stream",
     "text": [
      "2\n",
      "3\n",
      "4\n",
      "5\n",
      "6\n",
      "7\n",
      "8\n",
      "9\n",
      "10\n",
      "11\n",
      "12\n",
      "13\n",
      "14\n",
      "15\n",
      "16\n",
      "17\n",
      "18\n",
      "19\n",
      "20\n",
      "21\n",
      "22\n",
      "23\n",
      "24\n",
      "25\n",
      "26\n",
      "27\n",
      "28\n",
      "29\n",
      "30\n",
      "31\n",
      "32\n",
      "33\n",
      "34\n",
      "35\n",
      "36\n",
      "37\n",
      "38\n",
      "39\n",
      "40\n",
      "41\n",
      "42\n",
      "43\n",
      "44\n",
      "45\n",
      "46\n",
      "47\n",
      "48\n",
      "49\n",
      "50\n",
      "51\n",
      "52\n",
      "53\n",
      "54\n",
      "55\n",
      "56\n",
      "57\n",
      "58\n",
      "59\n",
      "60\n",
      "61\n",
      "62\n",
      "63\n",
      "64\n",
      "65\n",
      "66\n",
      "67\n",
      "68\n",
      "69\n",
      "70\n",
      "71\n",
      "72\n",
      "73\n",
      "74\n",
      "75\n",
      "76\n",
      "77\n",
      "78\n",
      "79\n",
      "80\n",
      "81\n",
      "82\n",
      "83\n",
      "84\n",
      "85\n",
      "86\n",
      "87\n",
      "88\n",
      "89\n",
      "90\n",
      "91\n",
      "92\n",
      "93\n",
      "94\n",
      "94\n",
      "95\n",
      "96\n",
      "97\n",
      "98\n",
      "99\n",
      "100\n",
      "101\n",
      "102\n",
      "103\n",
      "104\n",
      "105\n",
      "106\n",
      "107\n",
      "108\n",
      "109\n",
      "110\n",
      "111\n",
      "112\n",
      "113\n",
      "114\n",
      "115\n",
      "116\n",
      "117\n",
      "118\n",
      "119\n",
      "120\n",
      "121\n",
      "122\n",
      "123\n",
      "124\n",
      "125\n",
      "126\n",
      "127\n",
      "128\n",
      "129\n",
      "130\n",
      "131\n",
      "132\n",
      "133\n",
      "134\n",
      "135\n",
      "136\n",
      "137\n",
      "138\n",
      "139\n",
      "140\n",
      "141\n",
      "142\n",
      "143\n",
      "144\n",
      "145\n",
      "146\n",
      "147\n",
      "148\n",
      "149\n",
      "150\n",
      "151\n",
      "152\n",
      "153\n",
      "154\n",
      "155\n",
      "156\n",
      "157\n",
      "158\n",
      "159\n",
      "160\n",
      "161\n",
      "162\n",
      "163\n",
      "164\n",
      "165\n",
      "166\n",
      "167\n",
      "168\n",
      "169\n",
      "170\n",
      "171\n",
      "172\n",
      "173\n",
      "174\n",
      "175\n",
      "176\n",
      "177\n",
      "178\n",
      "179\n",
      "180\n",
      "181\n",
      "182\n"
     ]
    }
   ],
   "source": [
    "some_list = []\n",
    "count_no_txn = 0\n",
    "i = 1\n",
    "\n",
    "while lines[1][i] == '':\n",
    "    i += 1\n",
    "    \n",
    "else:\n",
    "\n",
    "    for x in range(i,183):\n",
    "        print(x)\n",
    "        if x == len(lines[1]) and lines[1][len(lines[1])] == '':\n",
    "            pass\n",
    "\n",
    "        elif lines[1][i] == '':\n",
    "            count_no_txn += 1\n",
    "\n",
    "        elif lines[1][i] == '1':\n",
    "\n",
    "            if count_no_txn > 0:\n",
    "                some_list.append(count_no_txn)\n",
    "\n",
    "            count_no_txn = 0\n"
   ]
  },
  {
   "cell_type": "code",
   "execution_count": 175,
   "id": "762d1a7b",
   "metadata": {},
   "outputs": [
    {
     "data": {
      "text/plain": [
       "[]"
      ]
     },
     "execution_count": 175,
     "metadata": {},
     "output_type": "execute_result"
    }
   ],
   "source": [
    "some_list"
   ]
  },
  {
   "cell_type": "code",
   "execution_count": null,
   "id": "8aa7685c",
   "metadata": {},
   "outputs": [],
   "source": []
  },
  {
   "cell_type": "code",
   "execution_count": null,
   "id": "568c1ae2",
   "metadata": {},
   "outputs": [],
   "source": []
  },
  {
   "cell_type": "code",
   "execution_count": null,
   "id": "923ad644",
   "metadata": {},
   "outputs": [],
   "source": []
  },
  {
   "cell_type": "code",
   "execution_count": null,
   "id": "ed8fc83e",
   "metadata": {},
   "outputs": [],
   "source": []
  },
  {
   "cell_type": "code",
   "execution_count": null,
   "id": "c2612447",
   "metadata": {},
   "outputs": [],
   "source": []
  },
  {
   "cell_type": "code",
   "execution_count": null,
   "id": "58ec7032",
   "metadata": {},
   "outputs": [],
   "source": []
  },
  {
   "cell_type": "code",
   "execution_count": null,
   "id": "01fb8857",
   "metadata": {},
   "outputs": [],
   "source": []
  },
  {
   "cell_type": "code",
   "execution_count": null,
   "id": "da4d0b8c",
   "metadata": {},
   "outputs": [],
   "source": []
  },
  {
   "cell_type": "code",
   "execution_count": null,
   "id": "21662acb",
   "metadata": {},
   "outputs": [],
   "source": []
  },
  {
   "cell_type": "code",
   "execution_count": null,
   "id": "45c962d2",
   "metadata": {},
   "outputs": [],
   "source": []
  },
  {
   "cell_type": "code",
   "execution_count": null,
   "id": "2e6bd840",
   "metadata": {},
   "outputs": [],
   "source": []
  },
  {
   "cell_type": "code",
   "execution_count": null,
   "id": "b8df6b4e",
   "metadata": {},
   "outputs": [],
   "source": []
  },
  {
   "cell_type": "code",
   "execution_count": null,
   "id": "5c23f8d1",
   "metadata": {},
   "outputs": [],
   "source": []
  },
  {
   "cell_type": "code",
   "execution_count": null,
   "id": "bb258b1f",
   "metadata": {},
   "outputs": [],
   "source": []
  },
  {
   "cell_type": "code",
   "execution_count": null,
   "id": "c8aad3dc",
   "metadata": {},
   "outputs": [],
   "source": []
  },
  {
   "cell_type": "code",
   "execution_count": null,
   "id": "d6b4535b",
   "metadata": {},
   "outputs": [],
   "source": []
  },
  {
   "cell_type": "code",
   "execution_count": null,
   "id": "01d592a5",
   "metadata": {},
   "outputs": [],
   "source": []
  },
  {
   "cell_type": "code",
   "execution_count": null,
   "id": "599c5b7e",
   "metadata": {},
   "outputs": [],
   "source": []
  },
  {
   "cell_type": "code",
   "execution_count": null,
   "id": "c9dbf961",
   "metadata": {},
   "outputs": [],
   "source": []
  },
  {
   "cell_type": "code",
   "execution_count": null,
   "id": "a13dde5d",
   "metadata": {},
   "outputs": [],
   "source": []
  },
  {
   "cell_type": "code",
   "execution_count": null,
   "id": "fed9d119",
   "metadata": {},
   "outputs": [],
   "source": []
  },
  {
   "cell_type": "code",
   "execution_count": null,
   "id": "76e974fb",
   "metadata": {},
   "outputs": [],
   "source": []
  },
  {
   "cell_type": "code",
   "execution_count": null,
   "id": "7498a55b",
   "metadata": {},
   "outputs": [],
   "source": []
  },
  {
   "cell_type": "code",
   "execution_count": null,
   "id": "6fd6dee2",
   "metadata": {},
   "outputs": [],
   "source": []
  },
  {
   "cell_type": "code",
   "execution_count": null,
   "id": "0a1c8509",
   "metadata": {},
   "outputs": [],
   "source": []
  },
  {
   "cell_type": "code",
   "execution_count": null,
   "id": "6910fcfc",
   "metadata": {},
   "outputs": [],
   "source": []
  },
  {
   "cell_type": "code",
   "execution_count": null,
   "id": "822b94ad",
   "metadata": {},
   "outputs": [],
   "source": []
  },
  {
   "cell_type": "code",
   "execution_count": null,
   "id": "222a25dd",
   "metadata": {},
   "outputs": [],
   "source": []
  },
  {
   "cell_type": "code",
   "execution_count": null,
   "id": "accc6bbd",
   "metadata": {},
   "outputs": [],
   "source": []
  },
  {
   "cell_type": "code",
   "execution_count": null,
   "id": "7387283b",
   "metadata": {},
   "outputs": [],
   "source": []
  },
  {
   "cell_type": "code",
   "execution_count": null,
   "id": "211d72e7",
   "metadata": {},
   "outputs": [],
   "source": []
  },
  {
   "cell_type": "code",
   "execution_count": null,
   "id": "886ada56",
   "metadata": {},
   "outputs": [],
   "source": []
  },
  {
   "cell_type": "code",
   "execution_count": null,
   "id": "4ab6ac3b",
   "metadata": {},
   "outputs": [],
   "source": []
  },
  {
   "cell_type": "code",
   "execution_count": null,
   "id": "ae0fd5a1",
   "metadata": {},
   "outputs": [],
   "source": []
  },
  {
   "cell_type": "code",
   "execution_count": null,
   "id": "15e32eae",
   "metadata": {},
   "outputs": [],
   "source": []
  },
  {
   "cell_type": "code",
   "execution_count": null,
   "id": "4fcdd0ba",
   "metadata": {},
   "outputs": [],
   "source": []
  },
  {
   "cell_type": "code",
   "execution_count": null,
   "id": "a2b3d933",
   "metadata": {},
   "outputs": [],
   "source": []
  },
  {
   "cell_type": "code",
   "execution_count": null,
   "id": "c658f014",
   "metadata": {},
   "outputs": [],
   "source": []
  },
  {
   "cell_type": "markdown",
   "id": "62400bb7",
   "metadata": {},
   "source": [
    "# FORECASTING NUMBER OF DEBIT CUSTOMERS"
   ]
  },
  {
   "cell_type": "code",
   "execution_count": 55,
   "id": "815cd61d",
   "metadata": {},
   "outputs": [],
   "source": [
    "# need total clients from to_compute_hazards_all_client_cards_21.12.21\n",
    "\n",
    "ratio_dict = {}\n",
    "for i in range(1,125):\n",
    "    try:\n",
    "        result = 1 - gone_on_dict[i] / (survived_to_dict[i] + gone_on_dict[i])\n",
    "    except:\n",
    "        result = 1\n",
    "    ratio_dict[i] = result"
   ]
  },
  {
   "cell_type": "code",
   "execution_count": 56,
   "id": "2441b387",
   "metadata": {},
   "outputs": [
    {
     "data": {
      "text/plain": [
       "{1: 0.9562327830324979,\n",
       " 2: 0.9615465968620116,\n",
       " 3: 0.9626474984244583,\n",
       " 4: 0.9640812225087214,\n",
       " 5: 0.9592377738715939,\n",
       " 6: 0.9709768789591493,\n",
       " 7: 0.9733963649541664,\n",
       " 8: 0.9741861031827616,\n",
       " 9: 0.9749646389111103,\n",
       " 10: 0.9757203386018729,\n",
       " 11: 0.9755964277034108,\n",
       " 12: 0.9739047320187769,\n",
       " 13: 0.9749708538574214,\n",
       " 14: 0.9757019867320968,\n",
       " 15: 0.9762074568200464,\n",
       " 16: 0.9773533997545144,\n",
       " 17: 0.9782150213085035,\n",
       " 18: 0.9793957735822497,\n",
       " 19: 0.9801660099541675,\n",
       " 20: 0.9792568803173594,\n",
       " 21: 0.9802249107285615,\n",
       " 22: 0.9806807808827486,\n",
       " 23: 0.9814400939488561,\n",
       " 24: 0.9814018049534224,\n",
       " 25: 0.9793640868936893,\n",
       " 26: 0.9796555449634573,\n",
       " 27: 0.9808660491298545,\n",
       " 28: 0.9827925579109734,\n",
       " 29: 0.982467778886562,\n",
       " 30: 0.9835210504823496,\n",
       " 31: 0.9840280843245565,\n",
       " 32: 0.9840404623567419,\n",
       " 33: 0.9840747155972616,\n",
       " 34: 0.9829661392872986,\n",
       " 35: 0.9827733949945593,\n",
       " 36: 0.9816046705822088,\n",
       " 37: 0.9803162816482242,\n",
       " 38: 0.9844397828701051,\n",
       " 39: 0.985603214747812,\n",
       " 40: 0.9855638409734876,\n",
       " 41: 0.9866494756180951,\n",
       " 42: 0.9859492094319309,\n",
       " 43: 0.9870461040735167,\n",
       " 44: 0.9869542822635076,\n",
       " 45: 0.9871392423464637,\n",
       " 46: 0.9857475764354959,\n",
       " 47: 0.9854915144008913,\n",
       " 48: 0.9860657543636319,\n",
       " 49: 0.9854465060083922,\n",
       " 50: 0.9859276676974371,\n",
       " 51: 0.9854412526016629,\n",
       " 52: 0.9861569207272491,\n",
       " 53: 0.9874554746786434,\n",
       " 54: 0.9877834868387657,\n",
       " 55: 0.9878521552071231,\n",
       " 56: 0.9878278909491549,\n",
       " 57: 0.9885582567465081,\n",
       " 58: 0.9875400216695275,\n",
       " 59: 0.9871193724886193,\n",
       " 60: 0.9840095283951243,\n",
       " 61: 0.9842424635752993,\n",
       " 62: 0.9871640540306865,\n",
       " 63: 0.9862055381606026,\n",
       " 64: 0.9867951760411896,\n",
       " 65: 0.9867483532828104,\n",
       " 66: 0.9873891682478303,\n",
       " 67: 0.9860980484363978,\n",
       " 68: 0.9868551215564015,\n",
       " 69: 0.9829410461500852,\n",
       " 70: 0.9892996792245194,\n",
       " 71: 0.9884045335658239,\n",
       " 72: 0.9890658388098214,\n",
       " 73: 0.9889913667414774,\n",
       " 74: 0.9881915062297106,\n",
       " 75: 0.989002309939534,\n",
       " 76: 0.9880580530484754,\n",
       " 77: 0.986050023264593,\n",
       " 78: 0.9877820899813138,\n",
       " 79: 0.9868178271446275,\n",
       " 80: 0.9869845312558523,\n",
       " 81: 0.9843636710551421,\n",
       " 82: 0.9847506929277299,\n",
       " 83: 0.9869552594431708,\n",
       " 84: 0.9848084207087362,\n",
       " 85: 0.9840928543097509,\n",
       " 86: 0.9824164997911825,\n",
       " 87: 0.9832425546868137,\n",
       " 88: 0.9841202150223888,\n",
       " 89: 0.9826077960295656,\n",
       " 90: 0.9818638195573782,\n",
       " 91: 0.9836869241822331,\n",
       " 92: 0.9800119183592392,\n",
       " 93: 0.9832348775788815,\n",
       " 94: 0.9854266238345216,\n",
       " 95: 0.9839008462717399,\n",
       " 96: 0.9744484267044603,\n",
       " 97: 0.9799938096176032,\n",
       " 98: 0.9837070448598401,\n",
       " 99: 0.983594200328116,\n",
       " 100: 0.9795101165022136,\n",
       " 101: 0.9787766652154984,\n",
       " 102: 0.9773043075497916,\n",
       " 103: 0.9741033893851813,\n",
       " 104: 0.9786321889721084,\n",
       " 105: 0.9820651984831089,\n",
       " 106: 0.9808542498573873,\n",
       " 107: 0.9778509373571102,\n",
       " 108: 0.9764584311883513,\n",
       " 109: 0.9861995548243492,\n",
       " 110: 0.9879911367862937,\n",
       " 111: 0.9888884407517948,\n",
       " 112: 0.9886139021577993,\n",
       " 113: 0.9882891284075384,\n",
       " 114: 0.9876947769678326,\n",
       " 115: 0.9859636413031174,\n",
       " 116: 0.9810333702064897,\n",
       " 117: 0.979062035792601,\n",
       " 118: 0.9827994395322994,\n",
       " 119: 0.9852738376674547,\n",
       " 120: 0.9876904601065826,\n",
       " 121: 0.9864484202512371,\n",
       " 122: 0.9876176196877262,\n",
       " 123: 0.9840662674440077,\n",
       " 124: 0.9866223447381223}"
      ]
     },
     "execution_count": 56,
     "metadata": {},
     "output_type": "execute_result"
    }
   ],
   "source": [
    "ratio_dict"
   ]
  },
  {
   "cell_type": "code",
   "execution_count": 57,
   "id": "693fe25e",
   "metadata": {},
   "outputs": [],
   "source": [
    "file = open('forecast_active_clients_nov_2021_(including_nov).csv')\n",
    "csv_data = csv.reader(file,delimiter = ';')\n",
    "lines = list(csv_data)"
   ]
  },
  {
   "cell_type": "code",
   "execution_count": 58,
   "id": "cba520b6",
   "metadata": {},
   "outputs": [
    {
     "data": {
      "text/plain": [
       "318581"
      ]
     },
     "execution_count": 58,
     "metadata": {},
     "output_type": "execute_result"
    }
   ],
   "source": [
    "len(lines)"
   ]
  },
  {
   "cell_type": "code",
   "execution_count": 59,
   "id": "3a1e55b9",
   "metadata": {},
   "outputs": [
    {
     "data": {
      "text/plain": [
       "['CUSTOMER_RK',\n",
       " 'BREAK_MONTHS',\n",
       " 'BREAK_COUNT',\n",
       " 'MIN_OPEN',\n",
       " 'MAX_TXN',\n",
       " 'CLOSED_ON_NTH_MONTH',\n",
       " 'LIVING_THRU_CENS',\n",
       " 'ALIVE_FLG']"
      ]
     },
     "execution_count": 59,
     "metadata": {},
     "output_type": "execute_result"
    }
   ],
   "source": [
    "lines[0]"
   ]
  },
  {
   "cell_type": "code",
   "execution_count": 60,
   "id": "e052961a",
   "metadata": {},
   "outputs": [],
   "source": [
    "status_0 = {}\n",
    "status_1 = {}\n",
    "status_2 = {}\n",
    "status_3 = {}\n",
    "status_4 = {}\n",
    "status_5 = {}\n",
    "\n",
    "n_months_active_dec = []\n",
    "for item in lines:\n",
    "    try:\n",
    "        n_months_active_dec.append(int(item[-2]))\n",
    "    except:\n",
    "        pass"
   ]
  },
  {
   "cell_type": "code",
   "execution_count": 61,
   "id": "a731b70b",
   "metadata": {},
   "outputs": [],
   "source": [
    "for i in range(0,121):\n",
    "    status_0[i] = n_months_active_dec.count(i)"
   ]
  },
  {
   "cell_type": "code",
   "execution_count": 62,
   "id": "4963b8f0",
   "metadata": {},
   "outputs": [
    {
     "data": {
      "text/plain": [
       "{0: 9094,\n",
       " 1: 11780,\n",
       " 2: 11724,\n",
       " 3: 6906,\n",
       " 4: 6325,\n",
       " 5: 6835,\n",
       " 6: 5727,\n",
       " 7: 5815,\n",
       " 8: 5578,\n",
       " 9: 5771,\n",
       " 10: 4813,\n",
       " 11: 5611,\n",
       " 12: 6159,\n",
       " 13: 7925,\n",
       " 14: 5609,\n",
       " 15: 3552,\n",
       " 16: 3525,\n",
       " 17: 3812,\n",
       " 18: 3277,\n",
       " 19: 3312,\n",
       " 20: 5373,\n",
       " 21: 6261,\n",
       " 22: 5388,\n",
       " 23: 4740,\n",
       " 24: 7530,\n",
       " 25: 9174,\n",
       " 26: 6987,\n",
       " 27: 4850,\n",
       " 28: 4247,\n",
       " 29: 4219,\n",
       " 30: 4323,\n",
       " 31: 4285,\n",
       " 32: 5217,\n",
       " 33: 5867,\n",
       " 34: 5071,\n",
       " 35: 3996,\n",
       " 36: 5589,\n",
       " 37: 5168,\n",
       " 38: 3698,\n",
       " 39: 2972,\n",
       " 40: 2807,\n",
       " 41: 2666,\n",
       " 42: 2940,\n",
       " 43: 2392,\n",
       " 44: 2143,\n",
       " 45: 2736,\n",
       " 46: 2383,\n",
       " 47: 1840,\n",
       " 48: 1928,\n",
       " 49: 2215,\n",
       " 50: 2316,\n",
       " 51: 1905,\n",
       " 52: 1289,\n",
       " 53: 1227,\n",
       " 54: 1277,\n",
       " 55: 1110,\n",
       " 56: 1102,\n",
       " 57: 1255,\n",
       " 58: 1222,\n",
       " 59: 1099,\n",
       " 60: 1235,\n",
       " 61: 1298,\n",
       " 62: 1196,\n",
       " 63: 1088,\n",
       " 64: 1021,\n",
       " 65: 708,\n",
       " 66: 767,\n",
       " 67: 768,\n",
       " 68: 783,\n",
       " 69: 539,\n",
       " 70: 586,\n",
       " 71: 692,\n",
       " 72: 573,\n",
       " 73: 913,\n",
       " 74: 662,\n",
       " 75: 563,\n",
       " 76: 603,\n",
       " 77: 1006,\n",
       " 78: 1017,\n",
       " 79: 703,\n",
       " 80: 586,\n",
       " 81: 1078,\n",
       " 82: 659,\n",
       " 83: 635,\n",
       " 84: 655,\n",
       " 85: 899,\n",
       " 86: 677,\n",
       " 87: 431,\n",
       " 88: 699,\n",
       " 89: 622,\n",
       " 90: 502,\n",
       " 91: 918,\n",
       " 92: 561,\n",
       " 93: 485,\n",
       " 94: 427,\n",
       " 95: 446,\n",
       " 96: 428,\n",
       " 97: 485,\n",
       " 98: 385,\n",
       " 99: 370,\n",
       " 100: 507,\n",
       " 101: 340,\n",
       " 102: 294,\n",
       " 103: 305,\n",
       " 104: 267,\n",
       " 105: 359,\n",
       " 106: 347,\n",
       " 107: 239,\n",
       " 108: 307,\n",
       " 109: 406,\n",
       " 110: 351,\n",
       " 111: 469,\n",
       " 112: 1904,\n",
       " 113: 712,\n",
       " 114: 136,\n",
       " 115: 159,\n",
       " 116: 158,\n",
       " 117: 129,\n",
       " 118: 74,\n",
       " 119: 41,\n",
       " 120: 72}"
      ]
     },
     "execution_count": 62,
     "metadata": {},
     "output_type": "execute_result"
    }
   ],
   "source": [
    "status_0"
   ]
  },
  {
   "cell_type": "code",
   "execution_count": 282,
   "id": "b39d4199",
   "metadata": {},
   "outputs": [],
   "source": [
    "status_1[1]= 10000*ratio_dict[1]\n",
    "for i in range(2,122):\n",
    "    status_1[i] = int(round(status_0[i-1] * ratio_dict[i-1]))"
   ]
  },
  {
   "cell_type": "code",
   "execution_count": 283,
   "id": "1eb8cf9a",
   "metadata": {},
   "outputs": [],
   "source": [
    "status_2[1]= 7000*ratio_dict[1]\n",
    "for i in range(2,123):\n",
    "    status_2[i] = int(round(status_1[i-1] * ratio_dict[i-1]))"
   ]
  },
  {
   "cell_type": "code",
   "execution_count": 284,
   "id": "39ab30de",
   "metadata": {},
   "outputs": [],
   "source": [
    "status_3[1]= 9000*ratio_dict[1]\n",
    "for i in range(2,124):\n",
    "    status_3[i] = int(round(status_2[i-1] * ratio_dict[i-1]))"
   ]
  },
  {
   "cell_type": "code",
   "execution_count": 285,
   "id": "0e7a0728",
   "metadata": {},
   "outputs": [],
   "source": [
    "status_4[1]= 9000*ratio_dict[1]\n",
    "for i in range(2,125):\n",
    "    status_4[i] = int(round(status_3[i-1] * ratio_dict[i-1]))"
   ]
  },
  {
   "cell_type": "code",
   "execution_count": 286,
   "id": "39e5c68a",
   "metadata": {},
   "outputs": [],
   "source": [
    "status_5[1]= 9000*ratio_dict[1]\n",
    "for i in range(2,126):\n",
    "    status_5[i] = int(round(status_4[i-1] * ratio_dict[i-1]))"
   ]
  },
  {
   "cell_type": "code",
   "execution_count": 287,
   "id": "53546406",
   "metadata": {},
   "outputs": [],
   "source": [
    "df = pd.DataFrame.from_dict(status_0, orient='index')\n",
    "df.to_excel('status_0.xlsx', sheet_name='nov')\n",
    "\n",
    "df = pd.DataFrame.from_dict(status_1, orient='index')\n",
    "df.to_excel('status_1.xlsx', sheet_name='dec')\n",
    "\n",
    "df = pd.DataFrame.from_dict(status_2, orient='index')\n",
    "df.to_excel('status_2.xlsx', sheet_name='jan')\n",
    "\n",
    "df = pd.DataFrame.from_dict(status_3, orient='index')\n",
    "df.to_excel('status_3.xlsx', sheet_name='feb')\n",
    "\n",
    "df = pd.DataFrame.from_dict(status_4, orient='index')\n",
    "df.to_excel('status_4.xlsx', sheet_name='mar')\n",
    "\n",
    "df = pd.DataFrame.from_dict(status_5, orient='index')\n",
    "df.to_excel('status_5.xlsx', sheet_name='apr')\n"
   ]
  },
  {
   "cell_type": "code",
   "execution_count": null,
   "id": "7a322f5f",
   "metadata": {},
   "outputs": [],
   "source": []
  },
  {
   "cell_type": "code",
   "execution_count": null,
   "id": "90463a54",
   "metadata": {},
   "outputs": [],
   "source": []
  },
  {
   "cell_type": "code",
   "execution_count": null,
   "id": "12596a14",
   "metadata": {},
   "outputs": [],
   "source": []
  },
  {
   "cell_type": "code",
   "execution_count": null,
   "id": "559df21d",
   "metadata": {},
   "outputs": [],
   "source": []
  },
  {
   "cell_type": "code",
   "execution_count": 36,
   "id": "26dcc676",
   "metadata": {},
   "outputs": [],
   "source": [
    "## NOT USED\n",
    "\n",
    "fact_usage = []\n",
    "for i in range(1,len(lines)):\n",
    "    try:\n",
    "        fact_usage.append(int(lines[i][-2]))\n",
    "    except:\n",
    "        fact_usage.append(0)\n",
    "\n",
    "fact_usage_dict = {}\n",
    "for x in range(max(fact_usage)+1):\n",
    "    fact_usage_dict[int('{}'.format(x))] = fact_usage.count(x)\n",
    "    "
   ]
  },
  {
   "cell_type": "code",
   "execution_count": 48,
   "id": "f85c9e5e",
   "metadata": {},
   "outputs": [],
   "source": [
    "## NOT USED\n",
    "\n",
    "started_using_on = {}\n",
    "\n",
    "temp = []\n",
    "for x in range(1, len(lines)):\n",
    "    temp.append(int(lines[x][-1]))\n",
    "\n",
    "for i in range(max(temp)+1):\n",
    "    started_using_on[int('{}'.format(i))] = temp.count(i)"
   ]
  },
  {
   "cell_type": "code",
   "execution_count": 40,
   "id": "9aee0de0",
   "metadata": {},
   "outputs": [],
   "source": [
    "# SURVIVED TO (NTH MONTH WHEN CARD WAS SURELY ACTIVE)\n",
    "\n",
    "df2 = pd.DataFrame.from_dict(survived_to_dict, orient='index')\n",
    "df2.to_excel('survive_to.xlsx', sheet_name='survive_to')"
   ]
  },
  {
   "cell_type": "code",
   "execution_count": 41,
   "id": "61975169",
   "metadata": {},
   "outputs": [],
   "source": [
    "# GONE ON (NTH MONTH WHEN CARD WAS CLOSED)\n",
    "\n",
    "df3 = pd.DataFrame.from_dict(gone_on_dict, orient='index')\n",
    "df3.to_excel('gone_on.xlsx', sheet_name='gone_on')"
   ]
  },
  {
   "cell_type": "code",
   "execution_count": 42,
   "id": "e1212463",
   "metadata": {},
   "outputs": [],
   "source": [
    "# FACT USAGE (FROM FIRST TO LAST TXN)\n",
    "\n",
    "df4 = pd.DataFrame.from_dict(fact_usage_dict, orient='index')\n",
    "df4.to_excel('fact_usage.xlsx', sheet_name='fact_usage')"
   ]
  },
  {
   "cell_type": "code",
   "execution_count": 49,
   "id": "2e62b02a",
   "metadata": {},
   "outputs": [],
   "source": [
    "# STARTED USING (ON NTH MONTH FIRST TXN)\n",
    "\n",
    "df5 = pd.DataFrame.from_dict(started_using_on, orient='index')\n",
    "df5.to_excel('started_using_on.xlsx', sheet_name='started_on')"
   ]
  },
  {
   "cell_type": "code",
   "execution_count": null,
   "id": "06d8f002",
   "metadata": {},
   "outputs": [],
   "source": []
  },
  {
   "cell_type": "code",
   "execution_count": null,
   "id": "931ba768",
   "metadata": {},
   "outputs": [],
   "source": []
  },
  {
   "cell_type": "code",
   "execution_count": 116,
   "id": "a433aeaf",
   "metadata": {},
   "outputs": [],
   "source": [
    "#\n",
    "#\n",
    "# FOR ANNUAL SURVIVAL\n",
    "#\n",
    "#\n",
    "\n",
    "file = open('annual_could_close_in_2021.csv')\n",
    "csv_data = csv.reader(file,delimiter = ';')\n",
    "lines = list(csv_data)"
   ]
  },
  {
   "cell_type": "code",
   "execution_count": 117,
   "id": "24f1cf39",
   "metadata": {},
   "outputs": [
    {
     "data": {
      "text/plain": [
       "['CUSTOMER_RK',\n",
       " 'BREAK_MONTHS',\n",
       " 'BREAK_COUNT',\n",
       " 'MIN_OPEN',\n",
       " 'MAX_CLOSE',\n",
       " 'CLOSED_ON_NTH_MONTH',\n",
       " 'LIVING_THRU_CENS']"
      ]
     },
     "execution_count": 117,
     "metadata": {},
     "output_type": "execute_result"
    }
   ],
   "source": [
    "lines[0]"
   ]
  },
  {
   "cell_type": "code",
   "execution_count": 118,
   "id": "6a11f018",
   "metadata": {},
   "outputs": [],
   "source": [
    "survived_to = []\n",
    "for i in range(1,len(lines)):\n",
    "    try:\n",
    "        survived_to.append(int(lines[i][-1]))\n",
    "    except:\n",
    "        pass\n",
    "    \n",
    "gone_on = []\n",
    "for i in range(1, len(lines)):\n",
    "    try:\n",
    "        gone_on.append(int(lines[i][-2]))\n",
    "    except:\n",
    "        pass"
   ]
  },
  {
   "cell_type": "code",
   "execution_count": 119,
   "id": "af2f356c",
   "metadata": {},
   "outputs": [],
   "source": [
    "survived_to_dict = {}\n",
    "for x in range(121):\n",
    "    count_x = 0\n",
    "    for item in survived_to:\n",
    "        if item>=x:\n",
    "            count_x += 1\n",
    "        else:\n",
    "            pass\n",
    "    survived_to_dict[int('{}'.format(x))] = count_x"
   ]
  },
  {
   "cell_type": "code",
   "execution_count": 120,
   "id": "c4abc655",
   "metadata": {},
   "outputs": [],
   "source": [
    "gone_on_dict = {}\n",
    "for i in range(1, 121):\n",
    "    gone_on_dict[int('{}'.format(i))] = gone_on.count(i)"
   ]
  },
  {
   "cell_type": "code",
   "execution_count": 121,
   "id": "dda56fdc",
   "metadata": {},
   "outputs": [],
   "source": [
    "df2 = pd.DataFrame.from_dict(survived_to_dict, orient='index')\n",
    "df2.to_excel('survive_to.xlsx', sheet_name='survive_to')\n",
    "\n",
    "df3 = pd.DataFrame.from_dict(gone_on_dict, orient='index')\n",
    "df3.to_excel('gone_on.xlsx', sheet_name='gone_on')"
   ]
  },
  {
   "cell_type": "code",
   "execution_count": null,
   "id": "c719c9cc",
   "metadata": {},
   "outputs": [],
   "source": []
  }
 ],
 "metadata": {
  "kernelspec": {
   "display_name": "Python 3",
   "language": "python",
   "name": "python3"
  },
  "language_info": {
   "codemirror_mode": {
    "name": "ipython",
    "version": 3
   },
   "file_extension": ".py",
   "mimetype": "text/x-python",
   "name": "python",
   "nbconvert_exporter": "python",
   "pygments_lexer": "ipython3",
   "version": "3.8.8"
  }
 },
 "nbformat": 4,
 "nbformat_minor": 5
}
