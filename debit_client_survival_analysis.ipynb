{
 "cells": [
  {
   "cell_type": "code",
   "execution_count": null,
   "id": "8614132c",
   "metadata": {},
   "outputs": [],
   "source": [
    "import csv\n",
    "import pandas as pd"
   ]
  },
  {
   "cell_type": "markdown",
   "id": "73af7286",
   "metadata": {},
   "source": [
    "# FROM CARD OPEN TO LAST MONTH OF TXN CUSTOMER SURVIVAL\n",
    "(before that used sas to find debit cards)"
   ]
  },
  {
   "cell_type": "code",
   "execution_count": null,
   "id": "fc1f1906",
   "metadata": {},
   "outputs": [],
   "source": [
    "file = open('all_debit_cards_base_30.12.21_270_days_gone.csv')\n",
    "csv_data = csv.reader(file,delimiter = ';')"
   ]
  },
  {
   "cell_type": "code",
   "execution_count": null,
   "id": "467b82c5",
   "metadata": {
    "scrolled": false
   },
   "outputs": [],
   "source": [
    "lines = list(csv_data)\n",
    "lines[0]"
   ]
  },
  {
   "cell_type": "code",
   "execution_count": null,
   "id": "5c1ef40b",
   "metadata": {},
   "outputs": [],
   "source": [
    "min_open = 0\n",
    "max_txn = 0\n",
    "break_count = 0\n",
    "break_months = []\n",
    "alive_flg = 0\n",
    "\n",
    "lines[0].extend(['BREAK_MONTHS', 'BREAK_COUNT', 'MIN_OPEN', 'MAX_TXN', 'ALIVE_FLG'])\n",
    "\n",
    "for i in range(1, len(lines)):\n",
    "           \n",
    "    if lines[i][0] != lines[i-1][0]:\n",
    "        \n",
    "        break_count = 0\n",
    "        break_months = []\n",
    "        alive_flg = 0\n",
    "        \n",
    "        min_open = int(lines[i][8])\n",
    "        \n",
    "        if lines[i][17] != '':\n",
    "            max_txn = int(lines[i][17])\n",
    "        else:\n",
    "            max_txn = int(lines[i][8])\n",
    "    \n",
    "    else:\n",
    "\n",
    "        if int(lines[i][8]) > max_txn:\n",
    "            break_months.append(int(round((int(lines[i][8]) - max_txn) / 30, 0)))\n",
    "            break_count += 1\n",
    "        \n",
    "            \n",
    "        if lines[i][17] != '' and int(lines[i][17]) > max_txn:\n",
    "            max_txn = int(lines[i][17])\n",
    "        \n",
    "    \n",
    "    if lines[i][-1] == '1':\n",
    "        alive_flg = 1\n",
    "        \n",
    "    lines[i].append(break_months)\n",
    "    lines[i].append(break_count)\n",
    "    lines[i].append(min_open)\n",
    "    lines[i].append(max_txn)\n",
    "    lines[i].append(alive_flg)"
   ]
  },
  {
   "cell_type": "code",
   "execution_count": null,
   "id": "9380e3bc",
   "metadata": {},
   "outputs": [],
   "source": [
    "# закрывает ли карту до перерыва\n",
    "\n",
    "min_open = 0\n",
    "max_txn = 0\n",
    "max_close = 0\n",
    "\n",
    "\n",
    "#yes - zakryl, no - ne zakryl kartu\n",
    "count_yes = []\n",
    "count_no = []\n",
    "count_same_m = []\n",
    "\n",
    "for i in range(1, len(lines)):\n",
    "           \n",
    "    if lines[i][0] != lines[i-1][0]:\n",
    "        \n",
    "        \n",
    "        min_open = int(lines[i][8])\n",
    "                \n",
    "        try:\n",
    "            max_close = int(lines[i][10])\n",
    "        except:\n",
    "            max_close = 'Active'\n",
    "        \n",
    "        if lines[i][17] != '':\n",
    "            max_txn = int(lines[i][17])        \n",
    "    \n",
    "    else:\n",
    "                   \n",
    "        if max_close != 'Active':\n",
    "            \n",
    "            if int(lines[i][8]) > max_close and int(lines[i][8]) > max_txn:\n",
    "                count_yes.append(i)\n",
    "            elif int(lines[i][8]) < max_close and int(lines[i][8]) > max_txn:\n",
    "                count_no.append(i)\n",
    "            elif int(lines[i][8]) == max_close and int(lines[i][8]) > max_txn:\n",
    "                count_same_m.append(i)\n",
    "                       \n",
    "            if lines[i][10] == '':\n",
    "                max_close = 'Active'\n",
    "            elif int(lines[i][10]) > max_close:\n",
    "                max_close = int(lines[i][10])\n",
    "                \n",
    "        if lines[i][17] != '' and int(lines[i][17]) > max_txn:\n",
    "                    max_txn = int(lines[i][17])"
   ]
  },
  {
   "cell_type": "code",
   "execution_count": null,
   "id": "7afd2077",
   "metadata": {},
   "outputs": [],
   "source": [
    "count_yes[:10]"
   ]
  },
  {
   "cell_type": "code",
   "execution_count": null,
   "id": "9b5428ec",
   "metadata": {},
   "outputs": [],
   "source": [
    "count_no[:10]"
   ]
  },
  {
   "cell_type": "code",
   "execution_count": null,
   "id": "24d428f3",
   "metadata": {},
   "outputs": [],
   "source": [
    "df = pd.DataFrame(lines)\n",
    "df.columns = df.iloc[0]\n",
    "df = df.iloc[1:]\n",
    "df.to_csv('lines_all_client_cards_30.12.21_270_days_gone.csv', index = False)"
   ]
  },
  {
   "cell_type": "markdown",
   "id": "f07d77c1",
   "metadata": {},
   "source": [
    "## after that used SAS to keep only needed information"
   ]
  },
  {
   "cell_type": "markdown",
   "id": "02aab349",
   "metadata": {},
   "source": [
    "# SURVIVAL ANALYSIS FOR DEBIT CARD CUSTOMERS"
   ]
  },
  {
   "cell_type": "code",
   "execution_count": null,
   "id": "c89dd147",
   "metadata": {},
   "outputs": [],
   "source": [
    "file = open('to_compute_hazards_2018.csv')\n",
    "csv_data = csv.reader(file,delimiter = ';')\n",
    "lines = list(csv_data)"
   ]
  },
  {
   "cell_type": "code",
   "execution_count": null,
   "id": "794588ae",
   "metadata": {},
   "outputs": [],
   "source": [
    "survived_to = []\n",
    "for i in range(1,len(lines)):\n",
    "\n",
    "    try:\n",
    "        survived_to.append(int(lines[i][-2]))\n",
    "    except:\n",
    "        pass\n",
    "    \n",
    "gone_on = []\n",
    "for i in range(1, len(lines)):\n",
    "    try:\n",
    "        gone_on.append(int(lines[i][-3]))\n",
    "    except:\n",
    "        pass"
   ]
  },
  {
   "cell_type": "code",
   "execution_count": null,
   "id": "7489c2ef",
   "metadata": {},
   "outputs": [],
   "source": [
    "survived_to_dict = {}\n",
    "for x in range(200):\n",
    "    count_x = 0\n",
    "    for item in survived_to:\n",
    "        if item>=x:\n",
    "            count_x += 1\n",
    "        else:\n",
    "            pass\n",
    "    survived_to_dict[int('{}'.format(x))] = count_x"
   ]
  },
  {
   "cell_type": "code",
   "execution_count": null,
   "id": "6b1650c2",
   "metadata": {},
   "outputs": [],
   "source": [
    "gone_on_dict = {}\n",
    "for i in range(1, 200):\n",
    "    gone_on_dict[int('{}'.format(i))] = gone_on.count(i)"
   ]
  },
  {
   "cell_type": "code",
   "execution_count": null,
   "id": "729ddd1a",
   "metadata": {},
   "outputs": [],
   "source": [
    "df = pd.DataFrame.from_dict(survived_to_dict, orient='index')\n",
    "df.to_excel('survive_to.xlsx', sheet_name='survive_to')\n",
    "\n",
    "df2 = pd.DataFrame.from_dict(gone_on_dict, orient='index')\n",
    "df2.to_excel('gone_on.xlsx', sheet_name='gone_on')"
   ]
  },
  {
   "cell_type": "code",
   "execution_count": null,
   "id": "e84d4e50",
   "metadata": {},
   "outputs": [],
   "source": []
  },
  {
   "cell_type": "markdown",
   "id": "33833cc9",
   "metadata": {},
   "source": [
    "# RETURN RATE"
   ]
  },
  {
   "cell_type": "code",
   "execution_count": null,
   "id": "7b85a877",
   "metadata": {},
   "outputs": [],
   "source": [
    "# 22615 01.12.21"
   ]
  },
  {
   "cell_type": "code",
   "execution_count": null,
   "id": "c1efd48c",
   "metadata": {},
   "outputs": [],
   "source": [
    "file = open('to_compute_return_rate_all_client_cards_21.12.21_180_days_gone.csv')\n",
    "csv_data = csv.reader(file,delimiter = ';')"
   ]
  },
  {
   "cell_type": "code",
   "execution_count": null,
   "id": "6e31adaa",
   "metadata": {},
   "outputs": [],
   "source": [
    "lines = list(csv_data)\n",
    "lines[1]"
   ]
  },
  {
   "cell_type": "code",
   "execution_count": null,
   "id": "fbbbd681",
   "metadata": {},
   "outputs": [],
   "source": [
    "lines[0]"
   ]
  },
  {
   "cell_type": "code",
   "execution_count": null,
   "id": "e688bdba",
   "metadata": {},
   "outputs": [],
   "source": [
    "returned_on = []\n",
    "for i in range(1,len(lines)):\n",
    "    if lines[i][1] != '[]':\n",
    "        returned_on.extend(lines[i][1].replace('[','').replace(']','').split(', '))\n"
   ]
  },
  {
   "cell_type": "code",
   "execution_count": null,
   "id": "6ddaec00",
   "metadata": {},
   "outputs": [],
   "source": [
    "return_on_2 = list(map(lambda x: int(x), returned_on))"
   ]
  },
  {
   "cell_type": "code",
   "execution_count": null,
   "id": "14b96dfc",
   "metadata": {},
   "outputs": [],
   "source": [
    "return_set = set()\n",
    "for item in return_on_2:\n",
    "    return_set.add(item)\n",
    "return_set = list(return_set)\n",
    "return_set.sort()\n",
    "    \n",
    "return_dict = {}\n",
    "for item in return_set:\n",
    "    return_dict[item] = return_on_2.count(item)"
   ]
  },
  {
   "cell_type": "code",
   "execution_count": null,
   "id": "2eb24c3f",
   "metadata": {},
   "outputs": [],
   "source": [
    "idet_since_gone = []\n",
    "\n",
    "for i in range(1, len(lines)):\n",
    "    if lines[i][1] == '[]' and lines[i][-1] == '0':\n",
    "        idet_since_gone.append(int(round((22615 - int(lines[i][4])) / 30)))"
   ]
  },
  {
   "cell_type": "code",
   "execution_count": null,
   "id": "4eace819",
   "metadata": {},
   "outputs": [],
   "source": [
    "idet_s_zakrytiya = {}\n",
    "\n",
    "for i in range(1,200):\n",
    "    \n",
    "    count_x = 0\n",
    "    \n",
    "    for x in return_on_2:\n",
    "        if x > i:\n",
    "            count_x += 1\n",
    "    \n",
    "    for y in idet_since_gone:\n",
    "        if y > i:\n",
    "            count_x += 1\n",
    "    \n",
    "    idet_s_zakrytiya[i] = count_x"
   ]
  },
  {
   "cell_type": "code",
   "execution_count": null,
   "id": "bb75aa2b",
   "metadata": {},
   "outputs": [],
   "source": [
    "df = pd.DataFrame.from_dict(return_dict, orient='index')\n",
    "df.to_excel('returned_on.xlsx', sheet_name='returned')\n",
    "\n",
    "df2 = pd.DataFrame.from_dict(idet_s_zakrytiya, orient='index')\n",
    "df2.to_excel('idet_s_zakrytiya.xlsx', sheet_name='idet')"
   ]
  },
  {
   "cell_type": "code",
   "execution_count": null,
   "id": "33aca698",
   "metadata": {},
   "outputs": [],
   "source": []
  },
  {
   "cell_type": "code",
   "execution_count": null,
   "id": "27559009",
   "metadata": {},
   "outputs": [],
   "source": []
  },
  {
   "cell_type": "code",
   "execution_count": null,
   "id": "3c1195f0",
   "metadata": {},
   "outputs": [],
   "source": [
    "# to find how many months customers are gone before becoming active again\n",
    "# need return rate file data\n",
    "\n",
    "months_between = []\n",
    "\n",
    "for i in range(1, len(lines)):\n",
    "    if lines[i][1] != '[]':\n",
    "        months_between.extend(lines[i][1].replace('[', '').replace(']','').split(', '))"
   ]
  },
  {
   "cell_type": "code",
   "execution_count": null,
   "id": "8e0c5f3a",
   "metadata": {},
   "outputs": [],
   "source": [
    "months_between_int = list(map(lambda x: int(x), months_between))"
   ]
  },
  {
   "cell_type": "code",
   "execution_count": null,
   "id": "6765471a",
   "metadata": {},
   "outputs": [],
   "source": [
    "months_between_int.sort()"
   ]
  },
  {
   "cell_type": "code",
   "execution_count": null,
   "id": "f493fc17",
   "metadata": {},
   "outputs": [],
   "source": [
    "months_between_dict = {}\n",
    "\n",
    "for i in range(183):\n",
    "    months_between_dict[i] = months_between_int.count(i)"
   ]
  },
  {
   "cell_type": "code",
   "execution_count": null,
   "id": "63f0b5c8",
   "metadata": {},
   "outputs": [],
   "source": [
    "df3 = pd.DataFrame.from_dict(months_between_dict, orient='index')\n",
    "df3.to_excel('months_between_dict2.xlsx', sheet_name='months_between')"
   ]
  },
  {
   "cell_type": "code",
   "execution_count": null,
   "id": "c3f2c662",
   "metadata": {},
   "outputs": [],
   "source": []
  },
  {
   "cell_type": "code",
   "execution_count": null,
   "id": "0f1066f6",
   "metadata": {},
   "outputs": [],
   "source": []
  },
  {
   "cell_type": "code",
   "execution_count": null,
   "id": "bd7a3e2b",
   "metadata": {},
   "outputs": [],
   "source": []
  },
  {
   "cell_type": "markdown",
   "id": "cb715afb",
   "metadata": {},
   "source": [
    "# SWITCH TO PREMIUM CARD"
   ]
  },
  {
   "cell_type": "code",
   "execution_count": null,
   "id": "bf48b9a6",
   "metadata": {},
   "outputs": [],
   "source": [
    "file = open('gold_to_premium_card.csv')\n",
    "csv_data = csv.reader(file,delimiter = ';')"
   ]
  },
  {
   "cell_type": "code",
   "execution_count": null,
   "id": "8db90ac4",
   "metadata": {},
   "outputs": [],
   "source": [
    "lines = list(csv_data)\n",
    "lines[0]"
   ]
  },
  {
   "cell_type": "code",
   "execution_count": null,
   "id": "32b64ce0",
   "metadata": {},
   "outputs": [],
   "source": [
    "lines[0].extend(['CARD_COUNT', 'G_OR_P_FLAG', 'BREAK_MONTHS', 'BREAK_COUNT', 'MIN_OPEN', 'MAX_CLOSE'])\n",
    "\n",
    "for i in range(1, len(lines)):\n",
    "           \n",
    "    if lines[i][0] != lines[i-1][0]:\n",
    "        card_count = 1\n",
    "        g_or_p_flag = []\n",
    "        break_count = 0\n",
    "        break_months = []\n",
    "        min_open = 0\n",
    "        max_close = 0\n",
    "        \n",
    "        if lines[i][10] == '' and lines[i][11] == 'Card OK':\n",
    "            max_close = ''\n",
    "        elif lines[i][10] == '':\n",
    "            max_close = int(lines[i+1][8])\n",
    "        else:\n",
    "            max_close = int(lines[i][10])\n",
    "        \n",
    "        min_open = int(lines[i][8])\n",
    "    \n",
    "    else:\n",
    "        card_count += 1\n",
    "                        \n",
    "        if max_close != '':\n",
    "            \n",
    "            if int(lines[i][8]) > max_close and lines[i][10] != '':\n",
    "                break_months.append(int(round((int(lines[i][8]) - max_close) / 30, 0)))\n",
    "                break_count += 1\n",
    "                max_close = int(lines[i][10])\n",
    "            elif lines[i][10] == '' and lines[i][11] == 'Card OK':\n",
    "                max_close = ''\n",
    "            elif lines[i][10] != '' and int(lines[i][10]) > max_close:\n",
    "                max_close = int(lines[i][10])\n",
    "            else:\n",
    "                pass\n",
    "    \n",
    "    if 'PLATINUM' in lines[i][12] or 'INFINITE' in lines[i][12] or 'BLACK EDITION' in lines[i][12]:\n",
    "        g_or_p_flag.append(1)\n",
    "    else:\n",
    "        g_or_p_flag.append(0)\n",
    "    \n",
    "    lines[i].append(card_count)\n",
    "    lines[i].append(g_or_p_flag)\n",
    "    lines[i].append(break_months)\n",
    "    lines[i].append(break_count)\n",
    "    lines[i].append(str(min_open))\n",
    "    if max_close == '':\n",
    "        lines[i].append(max_close)\n",
    "    else:\n",
    "        lines[i].append(str(max_close))"
   ]
  },
  {
   "cell_type": "code",
   "execution_count": null,
   "id": "8a2cf910",
   "metadata": {},
   "outputs": [],
   "source": [
    "df = pd.DataFrame(lines)\n",
    "df.columns = df.iloc[0]\n",
    "df = df.iloc[1:]\n",
    "df.to_csv('lines_g_or_p_flag.csv', index = False)"
   ]
  },
  {
   "cell_type": "code",
   "execution_count": null,
   "id": "a536a2db",
   "metadata": {},
   "outputs": [],
   "source": []
  },
  {
   "cell_type": "markdown",
   "id": "70cec51e",
   "metadata": {},
   "source": [
    "# MONTHS BETWEEN TXNS"
   ]
  },
  {
   "cell_type": "code",
   "execution_count": null,
   "id": "3f33a457",
   "metadata": {},
   "outputs": [],
   "source": [
    "file = open('debit_client_transactions_by_months.csv', 'r')\n",
    "csv_data = csv.reader(file, delimiter=';')"
   ]
  },
  {
   "cell_type": "code",
   "execution_count": null,
   "id": "771d1875",
   "metadata": {},
   "outputs": [],
   "source": [
    "lines = list(csv_data)"
   ]
  },
  {
   "cell_type": "code",
   "execution_count": null,
   "id": "d4d17e4c",
   "metadata": {},
   "outputs": [],
   "source": [
    "lines[1]"
   ]
  },
  {
   "cell_type": "code",
   "execution_count": null,
   "id": "7e32eb95",
   "metadata": {},
   "outputs": [],
   "source": [
    "len(lines[1])"
   ]
  },
  {
   "cell_type": "code",
   "execution_count": null,
   "id": "45b52dc7",
   "metadata": {},
   "outputs": [],
   "source": [
    "some_list = []\n",
    "count_no_txn = 0\n",
    "i = 1\n",
    "\n",
    "while lines[1][i] == '':\n",
    "    i += 1\n",
    "    \n",
    "else:\n",
    "\n",
    "    for x in range(i,183):\n",
    "        print(x)\n",
    "        if x == len(lines[1]) and lines[1][len(lines[1])] == '':\n",
    "            pass\n",
    "\n",
    "        elif lines[1][i] == '':\n",
    "            count_no_txn += 1\n",
    "\n",
    "        elif lines[1][i] == '1':\n",
    "\n",
    "            if count_no_txn > 0:\n",
    "                some_list.append(count_no_txn)\n",
    "\n",
    "            count_no_txn = 0\n"
   ]
  },
  {
   "cell_type": "code",
   "execution_count": null,
   "id": "762d1a7b",
   "metadata": {},
   "outputs": [],
   "source": [
    "some_list"
   ]
  },
  {
   "cell_type": "code",
   "execution_count": null,
   "id": "8aa7685c",
   "metadata": {},
   "outputs": [],
   "source": []
  },
  {
   "cell_type": "markdown",
   "id": "62400bb7",
   "metadata": {},
   "source": [
    "# FORECASTING NUMBER OF DEBIT CUSTOMERS"
   ]
  },
  {
   "cell_type": "code",
   "execution_count": null,
   "id": "815cd61d",
   "metadata": {},
   "outputs": [],
   "source": [
    "# need total clients from to_compute_hazards_all_client_cards_21.12.21\n",
    "\n",
    "ratio_dict = {}\n",
    "for i in range(1,125):\n",
    "    try:\n",
    "        result = 1 - gone_on_dict[i] / (survived_to_dict[i] + gone_on_dict[i])\n",
    "    except:\n",
    "        result = 1\n",
    "    ratio_dict[i] = result"
   ]
  },
  {
   "cell_type": "code",
   "execution_count": null,
   "id": "2441b387",
   "metadata": {},
   "outputs": [],
   "source": [
    "ratio_dict"
   ]
  },
  {
   "cell_type": "code",
   "execution_count": null,
   "id": "693fe25e",
   "metadata": {},
   "outputs": [],
   "source": [
    "file = open('forecast_active_clients_nov_2021_(including_nov).csv')\n",
    "csv_data = csv.reader(file,delimiter = ';')\n",
    "lines = list(csv_data)"
   ]
  },
  {
   "cell_type": "code",
   "execution_count": null,
   "id": "cba520b6",
   "metadata": {},
   "outputs": [],
   "source": [
    "len(lines)"
   ]
  },
  {
   "cell_type": "code",
   "execution_count": null,
   "id": "3a1e55b9",
   "metadata": {},
   "outputs": [],
   "source": [
    "lines[0]"
   ]
  },
  {
   "cell_type": "code",
   "execution_count": null,
   "id": "e052961a",
   "metadata": {},
   "outputs": [],
   "source": [
    "status_0 = {}\n",
    "status_1 = {}\n",
    "status_2 = {}\n",
    "status_3 = {}\n",
    "status_4 = {}\n",
    "status_5 = {}\n",
    "\n",
    "n_months_active_dec = []\n",
    "for item in lines:\n",
    "    try:\n",
    "        n_months_active_dec.append(int(item[-2]))\n",
    "    except:\n",
    "        pass"
   ]
  },
  {
   "cell_type": "code",
   "execution_count": null,
   "id": "a731b70b",
   "metadata": {},
   "outputs": [],
   "source": [
    "for i in range(0,121):\n",
    "    status_0[i] = n_months_active_dec.count(i)"
   ]
  },
  {
   "cell_type": "code",
   "execution_count": null,
   "id": "4963b8f0",
   "metadata": {},
   "outputs": [],
   "source": [
    "status_0"
   ]
  },
  {
   "cell_type": "code",
   "execution_count": null,
   "id": "b39d4199",
   "metadata": {},
   "outputs": [],
   "source": [
    "status_1[1]= 10000*ratio_dict[1]\n",
    "for i in range(2,122):\n",
    "    status_1[i] = int(round(status_0[i-1] * ratio_dict[i-1]))"
   ]
  },
  {
   "cell_type": "code",
   "execution_count": null,
   "id": "1eb8cf9a",
   "metadata": {},
   "outputs": [],
   "source": [
    "status_2[1]= 7000*ratio_dict[1]\n",
    "for i in range(2,123):\n",
    "    status_2[i] = int(round(status_1[i-1] * ratio_dict[i-1]))"
   ]
  },
  {
   "cell_type": "code",
   "execution_count": null,
   "id": "39ab30de",
   "metadata": {},
   "outputs": [],
   "source": [
    "status_3[1]= 9000*ratio_dict[1]\n",
    "for i in range(2,124):\n",
    "    status_3[i] = int(round(status_2[i-1] * ratio_dict[i-1]))"
   ]
  },
  {
   "cell_type": "code",
   "execution_count": null,
   "id": "0e7a0728",
   "metadata": {},
   "outputs": [],
   "source": [
    "status_4[1]= 9000*ratio_dict[1]\n",
    "for i in range(2,125):\n",
    "    status_4[i] = int(round(status_3[i-1] * ratio_dict[i-1]))"
   ]
  },
  {
   "cell_type": "code",
   "execution_count": null,
   "id": "39e5c68a",
   "metadata": {},
   "outputs": [],
   "source": [
    "status_5[1]= 9000*ratio_dict[1]\n",
    "for i in range(2,126):\n",
    "    status_5[i] = int(round(status_4[i-1] * ratio_dict[i-1]))"
   ]
  },
  {
   "cell_type": "code",
   "execution_count": null,
   "id": "53546406",
   "metadata": {},
   "outputs": [],
   "source": [
    "df = pd.DataFrame.from_dict(status_0, orient='index')\n",
    "df.to_excel('status_0.xlsx', sheet_name='nov')\n",
    "\n",
    "df = pd.DataFrame.from_dict(status_1, orient='index')\n",
    "df.to_excel('status_1.xlsx', sheet_name='dec')\n",
    "\n",
    "df = pd.DataFrame.from_dict(status_2, orient='index')\n",
    "df.to_excel('status_2.xlsx', sheet_name='jan')\n",
    "\n",
    "df = pd.DataFrame.from_dict(status_3, orient='index')\n",
    "df.to_excel('status_3.xlsx', sheet_name='feb')\n",
    "\n",
    "df = pd.DataFrame.from_dict(status_4, orient='index')\n",
    "df.to_excel('status_4.xlsx', sheet_name='mar')\n",
    "\n",
    "df = pd.DataFrame.from_dict(status_5, orient='index')\n",
    "df.to_excel('status_5.xlsx', sheet_name='apr')\n"
   ]
  },
  {
   "cell_type": "code",
   "execution_count": null,
   "id": "7a322f5f",
   "metadata": {},
   "outputs": [],
   "source": []
  },
  {
   "cell_type": "code",
   "execution_count": null,
   "id": "90463a54",
   "metadata": {},
   "outputs": [],
   "source": []
  },
  {
   "cell_type": "code",
   "execution_count": null,
   "id": "12596a14",
   "metadata": {},
   "outputs": [],
   "source": []
  },
  {
   "cell_type": "code",
   "execution_count": null,
   "id": "559df21d",
   "metadata": {},
   "outputs": [],
   "source": []
  },
  {
   "cell_type": "code",
   "execution_count": null,
   "id": "26dcc676",
   "metadata": {},
   "outputs": [],
   "source": [
    "## NOT USED\n",
    "\n",
    "fact_usage = []\n",
    "for i in range(1,len(lines)):\n",
    "    try:\n",
    "        fact_usage.append(int(lines[i][-2]))\n",
    "    except:\n",
    "        fact_usage.append(0)\n",
    "\n",
    "fact_usage_dict = {}\n",
    "for x in range(max(fact_usage)+1):\n",
    "    fact_usage_dict[int('{}'.format(x))] = fact_usage.count(x)\n",
    "    "
   ]
  },
  {
   "cell_type": "code",
   "execution_count": null,
   "id": "f85c9e5e",
   "metadata": {},
   "outputs": [],
   "source": [
    "## NOT USED\n",
    "\n",
    "started_using_on = {}\n",
    "\n",
    "temp = []\n",
    "for x in range(1, len(lines)):\n",
    "    temp.append(int(lines[x][-1]))\n",
    "\n",
    "for i in range(max(temp)+1):\n",
    "    started_using_on[int('{}'.format(i))] = temp.count(i)"
   ]
  },
  {
   "cell_type": "code",
   "execution_count": null,
   "id": "9aee0de0",
   "metadata": {},
   "outputs": [],
   "source": [
    "# SURVIVED TO (NTH MONTH WHEN CARD WAS SURELY ACTIVE)\n",
    "\n",
    "df2 = pd.DataFrame.from_dict(survived_to_dict, orient='index')\n",
    "df2.to_excel('survive_to.xlsx', sheet_name='survive_to')"
   ]
  },
  {
   "cell_type": "code",
   "execution_count": null,
   "id": "61975169",
   "metadata": {},
   "outputs": [],
   "source": [
    "# GONE ON (NTH MONTH WHEN CARD WAS CLOSED)\n",
    "\n",
    "df3 = pd.DataFrame.from_dict(gone_on_dict, orient='index')\n",
    "df3.to_excel('gone_on.xlsx', sheet_name='gone_on')"
   ]
  },
  {
   "cell_type": "code",
   "execution_count": null,
   "id": "e1212463",
   "metadata": {},
   "outputs": [],
   "source": [
    "# FACT USAGE (FROM FIRST TO LAST TXN)\n",
    "\n",
    "df4 = pd.DataFrame.from_dict(fact_usage_dict, orient='index')\n",
    "df4.to_excel('fact_usage.xlsx', sheet_name='fact_usage')"
   ]
  },
  {
   "cell_type": "code",
   "execution_count": null,
   "id": "2e62b02a",
   "metadata": {},
   "outputs": [],
   "source": [
    "# STARTED USING (ON NTH MONTH FIRST TXN)\n",
    "\n",
    "df5 = pd.DataFrame.from_dict(started_using_on, orient='index')\n",
    "df5.to_excel('started_using_on.xlsx', sheet_name='started_on')"
   ]
  },
  {
   "cell_type": "code",
   "execution_count": null,
   "id": "06d8f002",
   "metadata": {},
   "outputs": [],
   "source": []
  },
  {
   "cell_type": "code",
   "execution_count": null,
   "id": "931ba768",
   "metadata": {},
   "outputs": [],
   "source": []
  },
  {
   "cell_type": "code",
   "execution_count": null,
   "id": "a433aeaf",
   "metadata": {},
   "outputs": [],
   "source": [
    "#\n",
    "#\n",
    "# FOR ANNUAL SURVIVAL\n",
    "#\n",
    "#\n",
    "\n",
    "file = open('annual_could_close_in_2021.csv')\n",
    "csv_data = csv.reader(file,delimiter = ';')\n",
    "lines = list(csv_data)"
   ]
  },
  {
   "cell_type": "code",
   "execution_count": null,
   "id": "24f1cf39",
   "metadata": {},
   "outputs": [],
   "source": [
    "lines[0]"
   ]
  },
  {
   "cell_type": "code",
   "execution_count": null,
   "id": "6a11f018",
   "metadata": {},
   "outputs": [],
   "source": [
    "survived_to = []\n",
    "for i in range(1,len(lines)):\n",
    "    try:\n",
    "        survived_to.append(int(lines[i][-1]))\n",
    "    except:\n",
    "        pass\n",
    "    \n",
    "gone_on = []\n",
    "for i in range(1, len(lines)):\n",
    "    try:\n",
    "        gone_on.append(int(lines[i][-2]))\n",
    "    except:\n",
    "        pass"
   ]
  },
  {
   "cell_type": "code",
   "execution_count": null,
   "id": "af2f356c",
   "metadata": {},
   "outputs": [],
   "source": [
    "survived_to_dict = {}\n",
    "for x in range(121):\n",
    "    count_x = 0\n",
    "    for item in survived_to:\n",
    "        if item>=x:\n",
    "            count_x += 1\n",
    "        else:\n",
    "            pass\n",
    "    survived_to_dict[int('{}'.format(x))] = count_x"
   ]
  },
  {
   "cell_type": "code",
   "execution_count": null,
   "id": "c4abc655",
   "metadata": {},
   "outputs": [],
   "source": [
    "gone_on_dict = {}\n",
    "for i in range(1, 121):\n",
    "    gone_on_dict[int('{}'.format(i))] = gone_on.count(i)"
   ]
  },
  {
   "cell_type": "code",
   "execution_count": null,
   "id": "dda56fdc",
   "metadata": {},
   "outputs": [],
   "source": [
    "df2 = pd.DataFrame.from_dict(survived_to_dict, orient='index')\n",
    "df2.to_excel('survive_to.xlsx', sheet_name='survive_to')\n",
    "\n",
    "df3 = pd.DataFrame.from_dict(gone_on_dict, orient='index')\n",
    "df3.to_excel('gone_on.xlsx', sheet_name='gone_on')"
   ]
  },
  {
   "cell_type": "code",
   "execution_count": null,
   "id": "c719c9cc",
   "metadata": {},
   "outputs": [],
   "source": []
  }
 ],
 "metadata": {
  "kernelspec": {
   "display_name": "Python 3",
   "language": "python",
   "name": "python3"
  },
  "language_info": {
   "codemirror_mode": {
    "name": "ipython",
    "version": 3
   },
   "file_extension": ".py",
   "mimetype": "text/x-python",
   "name": "python",
   "nbconvert_exporter": "python",
   "pygments_lexer": "ipython3",
   "version": "3.8.8"
  }
 },
 "nbformat": 4,
 "nbformat_minor": 5
}
