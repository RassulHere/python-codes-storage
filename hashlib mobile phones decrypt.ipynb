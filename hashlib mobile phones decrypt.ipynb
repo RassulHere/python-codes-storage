{
 "cells": [
  {
   "cell_type": "code",
   "execution_count": 1,
   "id": "d7df8a88",
   "metadata": {},
   "outputs": [],
   "source": [
    "import hashlib\n",
    "import openpyxl"
   ]
  },
  {
   "cell_type": "code",
   "execution_count": 2,
   "id": "a3da8321",
   "metadata": {},
   "outputs": [],
   "source": [
    "hashes_list = []\n",
    "phones_list = []\n",
    "hashes_dict_for_num = {}"
   ]
  },
  {
   "cell_type": "code",
   "execution_count": 3,
   "id": "28639263",
   "metadata": {},
   "outputs": [],
   "source": [
    "f = openpyxl.load_workbook('filename.xlsx', 'r')"
   ]
  },
  {
   "cell_type": "code",
   "execution_count": 4,
   "id": "f674bddc",
   "metadata": {},
   "outputs": [],
   "source": [
    "sheet = f['Лист2']"
   ]
  },
  {
   "cell_type": "code",
   "execution_count": 5,
   "id": "6cd137bf",
   "metadata": {},
   "outputs": [],
   "source": [
    "for i in sheet.values:\n",
    "    hashes_list.append(i[0])"
   ]
  },
  {
   "cell_type": "code",
   "execution_count": 6,
   "id": "9ae4f2c0",
   "metadata": {
    "scrolled": true
   },
   "outputs": [],
   "source": [
    "for one in [700,701,702,705,707,708,747]:\n",
    "    for three in (range(10)):\n",
    "        for four in (range(10)):\n",
    "            for five in (range(10)):\n",
    "                for six in (range(10)):\n",
    "                    for seven in (range(10)):\n",
    "                        for eight in (range(10)):\n",
    "                            for nine in (range(10)):\n",
    "                                hashes_dict_for_num[hashlib.md5((str(one)+str(three)+str(four)+str(five)+str(six)+str(seven)+str(eight)+str(nine)).encode()).hexdigest().upper()] = '{}{}{}{}{}{}{}{}'.format(one,three,four,five,six,seven,eight,nine) "
   ]
  },
  {
   "cell_type": "code",
   "execution_count": 7,
   "id": "6f061294",
   "metadata": {},
   "outputs": [],
   "source": [
    "for item in hashes_list:\n",
    "    try:\n",
    "        phones_list.append(hashes_dict_for_num[item])\n",
    "    except:\n",
    "        pass"
   ]
  },
  {
   "cell_type": "code",
   "execution_count": 8,
   "id": "91381a32",
   "metadata": {},
   "outputs": [],
   "source": [
    "hashes_dict_for_num.clear()"
   ]
  },
  {
   "cell_type": "code",
   "execution_count": 9,
   "id": "4637eb47",
   "metadata": {},
   "outputs": [],
   "source": [
    "for one in [771,772,775,776,777,778]:\n",
    "    for three in (range(10)):\n",
    "        for four in (range(10)):\n",
    "            for five in (range(10)):\n",
    "                for six in (range(10)):\n",
    "                    for seven in (range(10)):\n",
    "                        for eight in (range(10)):\n",
    "                            for nine in (range(10)):\n",
    "                                hashes_dict_for_num[hashlib.md5((str(one)+str(three)+str(four)+str(five)+str(six)+str(seven)+str(eight)+str(nine)).encode()).hexdigest().upper()] = '{}{}{}{}{}{}{}{}'.format(one,three,four,five,six,seven,eight,nine) "
   ]
  },
  {
   "cell_type": "code",
   "execution_count": 10,
   "id": "ca5a7622",
   "metadata": {},
   "outputs": [],
   "source": [
    "for item in hashes_list:\n",
    "    try:\n",
    "        phones_list.append(hashes_dict_for_num[item])\n",
    "    except:\n",
    "        pass"
   ]
  },
  {
   "cell_type": "code",
   "execution_count": 11,
   "id": "0a5c7408",
   "metadata": {},
   "outputs": [],
   "source": [
    "import pandas as pd\n",
    "df = pd.DataFrame(phones_list)\n",
    "df.to_excel('phones_list_05.03.22.xlsx')"
   ]
  },
  {
   "cell_type": "code",
   "execution_count": null,
   "id": "88f452fc",
   "metadata": {},
   "outputs": [],
   "source": []
  }
 ],
 "metadata": {
  "kernelspec": {
   "display_name": "Python 3",
   "language": "python",
   "name": "python3"
  },
  "language_info": {
   "codemirror_mode": {
    "name": "ipython",
    "version": 3
   },
   "file_extension": ".py",
   "mimetype": "text/x-python",
   "name": "python",
   "nbconvert_exporter": "python",
   "pygments_lexer": "ipython3",
   "version": "3.8.8"
  }
 },
 "nbformat": 4,
 "nbformat_minor": 5
}
